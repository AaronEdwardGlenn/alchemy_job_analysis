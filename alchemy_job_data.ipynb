{
 "cells": [
  {
   "cell_type": "code",
   "execution_count": 2,
   "metadata": {},
   "outputs": [],
   "source": [
    "import pandas as pd\n",
    "import matplotlib.pyplot as plt\n",
    "import seaborn as sns"
   ]
  },
  {
   "cell_type": "code",
   "execution_count": 3,
   "metadata": {},
   "outputs": [],
   "source": [
    "df = pd.read_csv('pdxDevJobs.csv')"
   ]
  },
  {
   "cell_type": "code",
   "execution_count": 4,
   "metadata": {},
   "outputs": [],
   "source": [
    "df = df.drop(['Unnamed: 0'], axis=1)"
   ]
  },
  {
   "cell_type": "code",
   "execution_count": 5,
   "metadata": {},
   "outputs": [],
   "source": [
    "pd.set_option('display.max_columns', 29)"
   ]
  },
  {
   "cell_type": "code",
   "execution_count": 6,
   "metadata": {},
   "outputs": [
    {
     "data": {
      "text/html": [
       "<div>\n",
       "<style scoped>\n",
       "    .dataframe tbody tr th:only-of-type {\n",
       "        vertical-align: middle;\n",
       "    }\n",
       "\n",
       "    .dataframe tbody tr th {\n",
       "        vertical-align: top;\n",
       "    }\n",
       "\n",
       "    .dataframe thead th {\n",
       "        text-align: right;\n",
       "    }\n",
       "</style>\n",
       "<table border=\"1\" class=\"dataframe\">\n",
       "  <thead>\n",
       "    <tr style=\"text-align: right;\">\n",
       "      <th></th>\n",
       "      <th>Job Title</th>\n",
       "      <th>Salary Estimate</th>\n",
       "      <th>Job Description</th>\n",
       "      <th>Rating</th>\n",
       "      <th>Company Name</th>\n",
       "      <th>Location</th>\n",
       "      <th>Headquarters</th>\n",
       "      <th>Size</th>\n",
       "      <th>Founded</th>\n",
       "      <th>Type of ownership</th>\n",
       "      <th>Industry</th>\n",
       "      <th>Sector</th>\n",
       "      <th>Revenue</th>\n",
       "      <th>Competitors</th>\n",
       "      <th>min_salary</th>\n",
       "      <th>max_salary</th>\n",
       "      <th>average_salary</th>\n",
       "      <th>company_fullname</th>\n",
       "      <th>in_PDX</th>\n",
       "      <th>age</th>\n",
       "      <th>javascript_yn</th>\n",
       "      <th>react_yn</th>\n",
       "      <th>node_yn</th>\n",
       "      <th>mongodb_yn</th>\n",
       "      <th>heroku_yn</th>\n",
       "      <th>webpack_yn</th>\n",
       "    </tr>\n",
       "  </thead>\n",
       "  <tbody>\n",
       "    <tr>\n",
       "      <th>0</th>\n",
       "      <td>Software Developer</td>\n",
       "      <td>$52K-$94K (Glassdoor est.)</td>\n",
       "      <td>We're looking for a Software Developer to join...</td>\n",
       "      <td>3.6</td>\n",
       "      <td>Suvoda\\r\\n3.6</td>\n",
       "      <td>Portland, OR</td>\n",
       "      <td>Conshohocken, PA</td>\n",
       "      <td>201 to 500 employees</td>\n",
       "      <td>2012</td>\n",
       "      <td>Company - Private</td>\n",
       "      <td>Enterprise Software &amp; Network Solutions</td>\n",
       "      <td>Information Technology</td>\n",
       "      <td>Unknown / Non-Applicable</td>\n",
       "      <td>-1</td>\n",
       "      <td>52</td>\n",
       "      <td>94</td>\n",
       "      <td>73.0</td>\n",
       "      <td>Suvoda\\r\\n</td>\n",
       "      <td>True</td>\n",
       "      <td>8</td>\n",
       "      <td>False</td>\n",
       "      <td>False</td>\n",
       "      <td>False</td>\n",
       "      <td>False</td>\n",
       "      <td>False</td>\n",
       "      <td>False</td>\n",
       "    </tr>\n",
       "    <tr>\n",
       "      <th>1</th>\n",
       "      <td>Software Developer</td>\n",
       "      <td>$52K-$94K (Glassdoor est.)</td>\n",
       "      <td>Cinder is looking for a *Software Engineer* to...</td>\n",
       "      <td>3.4</td>\n",
       "      <td>Cinder Staffing\\r\\n3.4</td>\n",
       "      <td>Hillsboro, OR</td>\n",
       "      <td>Beaverton, OR</td>\n",
       "      <td>51 to 200 employees</td>\n",
       "      <td>-1</td>\n",
       "      <td>Company - Private</td>\n",
       "      <td>Staffing &amp; Outsourcing</td>\n",
       "      <td>Business Services</td>\n",
       "      <td>Less than $1 million (USD)</td>\n",
       "      <td>-1</td>\n",
       "      <td>52</td>\n",
       "      <td>94</td>\n",
       "      <td>73.0</td>\n",
       "      <td>Cinder Staffing\\r\\n</td>\n",
       "      <td>False</td>\n",
       "      <td>-1</td>\n",
       "      <td>False</td>\n",
       "      <td>False</td>\n",
       "      <td>False</td>\n",
       "      <td>False</td>\n",
       "      <td>False</td>\n",
       "      <td>False</td>\n",
       "    </tr>\n",
       "    <tr>\n",
       "      <th>2</th>\n",
       "      <td>App Developer</td>\n",
       "      <td>$52K-$94K (Glassdoor est.)</td>\n",
       "      <td>Essential Functions:\\r\\n\\r\\n§ Responsible for ...</td>\n",
       "      <td>3.9</td>\n",
       "      <td>Regional Multiple Listing Service\\r\\n3.9</td>\n",
       "      <td>Portland, OR</td>\n",
       "      <td>Portland, OR</td>\n",
       "      <td>1 to 50 employees</td>\n",
       "      <td>-1</td>\n",
       "      <td>Company - Private</td>\n",
       "      <td>Internet</td>\n",
       "      <td>Information Technology</td>\n",
       "      <td>$1 to $5 million (USD)</td>\n",
       "      <td>-1</td>\n",
       "      <td>52</td>\n",
       "      <td>94</td>\n",
       "      <td>73.0</td>\n",
       "      <td>Regional Multiple Listing Service\\r\\n</td>\n",
       "      <td>True</td>\n",
       "      <td>-1</td>\n",
       "      <td>False</td>\n",
       "      <td>False</td>\n",
       "      <td>False</td>\n",
       "      <td>False</td>\n",
       "      <td>False</td>\n",
       "      <td>False</td>\n",
       "    </tr>\n",
       "    <tr>\n",
       "      <th>3</th>\n",
       "      <td>Lead Software Engineer</td>\n",
       "      <td>$52K-$94K (Glassdoor est.)</td>\n",
       "      <td>Why Smarsh?\\r\\nOur motto is ‘People First. Ins...</td>\n",
       "      <td>3.5</td>\n",
       "      <td>Smarsh\\r\\n3.5</td>\n",
       "      <td>Portland, OR</td>\n",
       "      <td>Portland, OR</td>\n",
       "      <td>501 to 1000 employees</td>\n",
       "      <td>2001</td>\n",
       "      <td>Company - Private</td>\n",
       "      <td>Computer Hardware &amp; Software</td>\n",
       "      <td>Information Technology</td>\n",
       "      <td>$100 to $500 million (USD)</td>\n",
       "      <td>Global Relay, NortonLifeLock</td>\n",
       "      <td>52</td>\n",
       "      <td>94</td>\n",
       "      <td>73.0</td>\n",
       "      <td>Smarsh\\r\\n</td>\n",
       "      <td>True</td>\n",
       "      <td>19</td>\n",
       "      <td>False</td>\n",
       "      <td>True</td>\n",
       "      <td>True</td>\n",
       "      <td>False</td>\n",
       "      <td>False</td>\n",
       "      <td>False</td>\n",
       "    </tr>\n",
       "    <tr>\n",
       "      <th>4</th>\n",
       "      <td>Software Engineer</td>\n",
       "      <td>$52K-$94K (Glassdoor est.)</td>\n",
       "      <td>What will you contribute?\\r\\n\\r\\nThe Software ...</td>\n",
       "      <td>3.2</td>\n",
       "      <td>Finastra\\r\\n3.2</td>\n",
       "      <td>Portland, OR</td>\n",
       "      <td>London, United Kingdom</td>\n",
       "      <td>10000+ employees</td>\n",
       "      <td>2017</td>\n",
       "      <td>Company - Private</td>\n",
       "      <td>Financial Transaction Processing</td>\n",
       "      <td>Finance</td>\n",
       "      <td>$2 to $5 billion (USD)</td>\n",
       "      <td>-1</td>\n",
       "      <td>52</td>\n",
       "      <td>94</td>\n",
       "      <td>73.0</td>\n",
       "      <td>Finastra\\r\\n</td>\n",
       "      <td>True</td>\n",
       "      <td>3</td>\n",
       "      <td>False</td>\n",
       "      <td>False</td>\n",
       "      <td>False</td>\n",
       "      <td>False</td>\n",
       "      <td>False</td>\n",
       "      <td>False</td>\n",
       "    </tr>\n",
       "    <tr>\n",
       "      <th>5</th>\n",
       "      <td>Jr. C++ Software Engineer - ArcGIS Runtime SDK</td>\n",
       "      <td>$52K-$94K (Glassdoor est.)</td>\n",
       "      <td>Overview\\r\\n\\r\\n\\r\\nDo you have a passion for ...</td>\n",
       "      <td>3.5</td>\n",
       "      <td>Esri\\r\\n3.5</td>\n",
       "      <td>Portland, OR</td>\n",
       "      <td>Redlands, CA</td>\n",
       "      <td>1001 to 5000 employees</td>\n",
       "      <td>1969</td>\n",
       "      <td>Company - Private</td>\n",
       "      <td>Computer Hardware &amp; Software</td>\n",
       "      <td>Information Technology</td>\n",
       "      <td>$1 to $2 billion (USD)</td>\n",
       "      <td>Pitney Bowes</td>\n",
       "      <td>52</td>\n",
       "      <td>94</td>\n",
       "      <td>73.0</td>\n",
       "      <td>Esri\\r\\n</td>\n",
       "      <td>True</td>\n",
       "      <td>51</td>\n",
       "      <td>False</td>\n",
       "      <td>False</td>\n",
       "      <td>False</td>\n",
       "      <td>False</td>\n",
       "      <td>False</td>\n",
       "      <td>False</td>\n",
       "    </tr>\n",
       "    <tr>\n",
       "      <th>6</th>\n",
       "      <td>Frontend Software Engineer</td>\n",
       "      <td>$52K-$94K (Glassdoor est.)</td>\n",
       "      <td>Your Opportunity\\r\\n\\r\\n\\r\\nThe Developer Expe...</td>\n",
       "      <td>4.5</td>\n",
       "      <td>New Relic\\r\\n4.5</td>\n",
       "      <td>Portland, OR</td>\n",
       "      <td>San Francisco, CA</td>\n",
       "      <td>1001 to 5000 employees</td>\n",
       "      <td>2008</td>\n",
       "      <td>Company - Public</td>\n",
       "      <td>Computer Hardware &amp; Software</td>\n",
       "      <td>Information Technology</td>\n",
       "      <td>$100 to $500 million (USD)</td>\n",
       "      <td>AppDynamics, Datadog, Dynatrace</td>\n",
       "      <td>52</td>\n",
       "      <td>94</td>\n",
       "      <td>73.0</td>\n",
       "      <td>New Relic\\r\\n</td>\n",
       "      <td>True</td>\n",
       "      <td>12</td>\n",
       "      <td>False</td>\n",
       "      <td>True</td>\n",
       "      <td>True</td>\n",
       "      <td>False</td>\n",
       "      <td>False</td>\n",
       "      <td>False</td>\n",
       "    </tr>\n",
       "    <tr>\n",
       "      <th>7</th>\n",
       "      <td>Software Engineer</td>\n",
       "      <td>$52K-$94K (Glassdoor est.)</td>\n",
       "      <td>Software Engineer - Kafka Platform Team\\r\\nYou...</td>\n",
       "      <td>4.5</td>\n",
       "      <td>New Relic\\r\\n4.5</td>\n",
       "      <td>Portland, OR</td>\n",
       "      <td>San Francisco, CA</td>\n",
       "      <td>1001 to 5000 employees</td>\n",
       "      <td>2008</td>\n",
       "      <td>Company - Public</td>\n",
       "      <td>Computer Hardware &amp; Software</td>\n",
       "      <td>Information Technology</td>\n",
       "      <td>$100 to $500 million (USD)</td>\n",
       "      <td>AppDynamics, Datadog, Dynatrace</td>\n",
       "      <td>52</td>\n",
       "      <td>94</td>\n",
       "      <td>73.0</td>\n",
       "      <td>New Relic\\r\\n</td>\n",
       "      <td>True</td>\n",
       "      <td>12</td>\n",
       "      <td>False</td>\n",
       "      <td>False</td>\n",
       "      <td>False</td>\n",
       "      <td>False</td>\n",
       "      <td>False</td>\n",
       "      <td>False</td>\n",
       "    </tr>\n",
       "    <tr>\n",
       "      <th>8</th>\n",
       "      <td>Software Engineer</td>\n",
       "      <td>$52K-$94K (Glassdoor est.)</td>\n",
       "      <td>Primary Function\\r\\n\\r\\n\\r\\nWe are seeking an ...</td>\n",
       "      <td>3.7</td>\n",
       "      <td>TeamPeople\\r\\n3.7</td>\n",
       "      <td>Hillsboro, OR</td>\n",
       "      <td>Falls Church, VA</td>\n",
       "      <td>501 to 1000 employees</td>\n",
       "      <td>2004</td>\n",
       "      <td>Company - Private</td>\n",
       "      <td>Staffing &amp; Outsourcing</td>\n",
       "      <td>Business Services</td>\n",
       "      <td>$50 to $100 million (USD)</td>\n",
       "      <td>Aquent, Creative Circle, Maslow Media Group</td>\n",
       "      <td>52</td>\n",
       "      <td>94</td>\n",
       "      <td>73.0</td>\n",
       "      <td>TeamPeople\\r\\n</td>\n",
       "      <td>False</td>\n",
       "      <td>16</td>\n",
       "      <td>False</td>\n",
       "      <td>False</td>\n",
       "      <td>False</td>\n",
       "      <td>False</td>\n",
       "      <td>False</td>\n",
       "      <td>False</td>\n",
       "    </tr>\n",
       "    <tr>\n",
       "      <th>9</th>\n",
       "      <td>iOS/Android Runtime SDK Software Engineer</td>\n",
       "      <td>$52K-$94K (Glassdoor est.)</td>\n",
       "      <td>Overview\\r\\n\\r\\n\\r\\nIf you have a passion for ...</td>\n",
       "      <td>3.5</td>\n",
       "      <td>Esri\\r\\n3.5</td>\n",
       "      <td>Portland, OR</td>\n",
       "      <td>Redlands, CA</td>\n",
       "      <td>1001 to 5000 employees</td>\n",
       "      <td>1969</td>\n",
       "      <td>Company - Private</td>\n",
       "      <td>Computer Hardware &amp; Software</td>\n",
       "      <td>Information Technology</td>\n",
       "      <td>$1 to $2 billion (USD)</td>\n",
       "      <td>Pitney Bowes</td>\n",
       "      <td>52</td>\n",
       "      <td>94</td>\n",
       "      <td>73.0</td>\n",
       "      <td>Esri\\r\\n</td>\n",
       "      <td>True</td>\n",
       "      <td>51</td>\n",
       "      <td>False</td>\n",
       "      <td>False</td>\n",
       "      <td>False</td>\n",
       "      <td>False</td>\n",
       "      <td>False</td>\n",
       "      <td>False</td>\n",
       "    </tr>\n",
       "    <tr>\n",
       "      <th>10</th>\n",
       "      <td>Junior Software Developer</td>\n",
       "      <td>$52K-$94K (Glassdoor est.)</td>\n",
       "      <td>Hi, we’re Big Zeta, a small group of fun-lovin...</td>\n",
       "      <td>-1.0</td>\n",
       "      <td>Big Zeta</td>\n",
       "      <td>Portland, OR</td>\n",
       "      <td>Boise, ID</td>\n",
       "      <td>51 to 200 employees</td>\n",
       "      <td>-1</td>\n",
       "      <td>Company - Private</td>\n",
       "      <td>-1</td>\n",
       "      <td>-1</td>\n",
       "      <td>Unknown / Non-Applicable</td>\n",
       "      <td>-1</td>\n",
       "      <td>52</td>\n",
       "      <td>94</td>\n",
       "      <td>73.0</td>\n",
       "      <td>Big Zeta</td>\n",
       "      <td>True</td>\n",
       "      <td>-1</td>\n",
       "      <td>True</td>\n",
       "      <td>True</td>\n",
       "      <td>False</td>\n",
       "      <td>False</td>\n",
       "      <td>False</td>\n",
       "      <td>False</td>\n",
       "    </tr>\n",
       "    <tr>\n",
       "      <th>11</th>\n",
       "      <td>Software Engineer (All Levels)</td>\n",
       "      <td>$52K-$94K (Glassdoor est.)</td>\n",
       "      <td>Our mission is to help organizations, big and ...</td>\n",
       "      <td>5.0</td>\n",
       "      <td>Datawire, Inc.\\r\\n5.0</td>\n",
       "      <td>Portland, OR</td>\n",
       "      <td>Boston, MA</td>\n",
       "      <td>1 to 50 employees</td>\n",
       "      <td>-1</td>\n",
       "      <td>Company - Private</td>\n",
       "      <td>Enterprise Software &amp; Network Solutions</td>\n",
       "      <td>Information Technology</td>\n",
       "      <td>Unknown / Non-Applicable</td>\n",
       "      <td>-1</td>\n",
       "      <td>52</td>\n",
       "      <td>94</td>\n",
       "      <td>73.0</td>\n",
       "      <td>Datawire, Inc.\\r\\n</td>\n",
       "      <td>True</td>\n",
       "      <td>-1</td>\n",
       "      <td>False</td>\n",
       "      <td>False</td>\n",
       "      <td>False</td>\n",
       "      <td>False</td>\n",
       "      <td>False</td>\n",
       "      <td>False</td>\n",
       "    </tr>\n",
       "    <tr>\n",
       "      <th>12</th>\n",
       "      <td>Software Engineer</td>\n",
       "      <td>$52K-$94K (Glassdoor est.)</td>\n",
       "      <td>Who We Are\\r\\n\\r\\nOpen Up Resources is a nonpr...</td>\n",
       "      <td>-1.0</td>\n",
       "      <td>Open Up Resources</td>\n",
       "      <td>Portland, OR</td>\n",
       "      <td>Menlo Park, CA</td>\n",
       "      <td>1 to 50 employees</td>\n",
       "      <td>-1</td>\n",
       "      <td>Nonprofit Organization</td>\n",
       "      <td>K-12 Education</td>\n",
       "      <td>Education</td>\n",
       "      <td>Unknown / Non-Applicable</td>\n",
       "      <td>-1</td>\n",
       "      <td>52</td>\n",
       "      <td>94</td>\n",
       "      <td>73.0</td>\n",
       "      <td>Open Up Resources</td>\n",
       "      <td>True</td>\n",
       "      <td>-1</td>\n",
       "      <td>True</td>\n",
       "      <td>False</td>\n",
       "      <td>False</td>\n",
       "      <td>False</td>\n",
       "      <td>False</td>\n",
       "      <td>False</td>\n",
       "    </tr>\n",
       "    <tr>\n",
       "      <th>13</th>\n",
       "      <td>Software Development Technologist - Hillsboro, OR</td>\n",
       "      <td>$52K-$94K (Glassdoor est.)</td>\n",
       "      <td>Quick apply »\\r\\n\\r\\n\\r\\n\\r\\nSoftware Developm...</td>\n",
       "      <td>3.5</td>\n",
       "      <td>Edwards Vacuum, LLC\\r\\n3.5</td>\n",
       "      <td>Hillsboro, OR</td>\n",
       "      <td>Burgess Hill, United Kingdom</td>\n",
       "      <td>1001 to 5000 employees</td>\n",
       "      <td>1919</td>\n",
       "      <td>Company - Public</td>\n",
       "      <td>Industrial Manufacturing</td>\n",
       "      <td>Manufacturing</td>\n",
       "      <td>$1 to $2 billion (USD)</td>\n",
       "      <td>Pfeiffer Vacuum, Ebara Technologies, Busch</td>\n",
       "      <td>52</td>\n",
       "      <td>94</td>\n",
       "      <td>73.0</td>\n",
       "      <td>Edwards Vacuum, LLC\\r\\n</td>\n",
       "      <td>False</td>\n",
       "      <td>101</td>\n",
       "      <td>True</td>\n",
       "      <td>False</td>\n",
       "      <td>False</td>\n",
       "      <td>False</td>\n",
       "      <td>False</td>\n",
       "      <td>False</td>\n",
       "    </tr>\n",
       "    <tr>\n",
       "      <th>14</th>\n",
       "      <td>Software Developer</td>\n",
       "      <td>$52K-$94K (Glassdoor est.)</td>\n",
       "      <td>SOFTWARE DEVELOPER\\r\\n\\r\\nWORKING ENVIRONMENT\\...</td>\n",
       "      <td>4.5</td>\n",
       "      <td>NantEnergy, Inc.\\r\\n4.5</td>\n",
       "      <td>Camas, WA</td>\n",
       "      <td>Scottsdale, AZ</td>\n",
       "      <td>51 to 200 employees</td>\n",
       "      <td>-1</td>\n",
       "      <td>Unknown</td>\n",
       "      <td>-1</td>\n",
       "      <td>-1</td>\n",
       "      <td>Unknown / Non-Applicable</td>\n",
       "      <td>-1</td>\n",
       "      <td>52</td>\n",
       "      <td>94</td>\n",
       "      <td>73.0</td>\n",
       "      <td>NantEnergy, Inc.\\r\\n</td>\n",
       "      <td>False</td>\n",
       "      <td>-1</td>\n",
       "      <td>False</td>\n",
       "      <td>False</td>\n",
       "      <td>False</td>\n",
       "      <td>False</td>\n",
       "      <td>False</td>\n",
       "      <td>False</td>\n",
       "    </tr>\n",
       "    <tr>\n",
       "      <th>15</th>\n",
       "      <td>Software Engineer</td>\n",
       "      <td>$52K-$94K (Glassdoor est.)</td>\n",
       "      <td>Work with cutting-edge technology. Data Scienc...</td>\n",
       "      <td>-1.0</td>\n",
       "      <td>Aspen Capital</td>\n",
       "      <td>Portland, OR</td>\n",
       "      <td>Washington, DC</td>\n",
       "      <td>1 to 50 employees</td>\n",
       "      <td>-1</td>\n",
       "      <td>Private Practice / Firm</td>\n",
       "      <td>-1</td>\n",
       "      <td>-1</td>\n",
       "      <td>Unknown / Non-Applicable</td>\n",
       "      <td>-1</td>\n",
       "      <td>52</td>\n",
       "      <td>94</td>\n",
       "      <td>73.0</td>\n",
       "      <td>Aspen Capital</td>\n",
       "      <td>True</td>\n",
       "      <td>-1</td>\n",
       "      <td>False</td>\n",
       "      <td>False</td>\n",
       "      <td>False</td>\n",
       "      <td>False</td>\n",
       "      <td>False</td>\n",
       "      <td>False</td>\n",
       "    </tr>\n",
       "    <tr>\n",
       "      <th>16</th>\n",
       "      <td>Software Engineer (Level 1)</td>\n",
       "      <td>$52K-$94K (Glassdoor est.)</td>\n",
       "      <td>Company Description\\r\\n\\r\\nSemiconductor\\r\\n\\r...</td>\n",
       "      <td>3.7</td>\n",
       "      <td>Infotree Service Inc\\r\\n3.7</td>\n",
       "      <td>Hillsboro, OR</td>\n",
       "      <td>Canton, MI</td>\n",
       "      <td>51 to 200 employees</td>\n",
       "      <td>2004</td>\n",
       "      <td>Company - Private</td>\n",
       "      <td>Advertising &amp; Marketing</td>\n",
       "      <td>Business Services</td>\n",
       "      <td>$1 to $5 million (USD)</td>\n",
       "      <td>-1</td>\n",
       "      <td>52</td>\n",
       "      <td>94</td>\n",
       "      <td>73.0</td>\n",
       "      <td>Infotree Service Inc\\r\\n</td>\n",
       "      <td>False</td>\n",
       "      <td>16</td>\n",
       "      <td>False</td>\n",
       "      <td>False</td>\n",
       "      <td>False</td>\n",
       "      <td>False</td>\n",
       "      <td>False</td>\n",
       "      <td>False</td>\n",
       "    </tr>\n",
       "    <tr>\n",
       "      <th>17</th>\n",
       "      <td>Software Developer</td>\n",
       "      <td>$52K-$94K (Glassdoor est.)</td>\n",
       "      <td>RESPONSIBILITIES:\\r\\n\\r\\nKforce has a client i...</td>\n",
       "      <td>4.1</td>\n",
       "      <td>Kforce\\r\\n4.1</td>\n",
       "      <td>Beaverton, OR</td>\n",
       "      <td>Tampa, FL</td>\n",
       "      <td>10000+ employees</td>\n",
       "      <td>1966</td>\n",
       "      <td>Company - Public</td>\n",
       "      <td>Staffing &amp; Outsourcing</td>\n",
       "      <td>Business Services</td>\n",
       "      <td>$1 to $2 billion (USD)</td>\n",
       "      <td>-1</td>\n",
       "      <td>52</td>\n",
       "      <td>94</td>\n",
       "      <td>73.0</td>\n",
       "      <td>Kforce\\r\\n</td>\n",
       "      <td>False</td>\n",
       "      <td>54</td>\n",
       "      <td>False</td>\n",
       "      <td>False</td>\n",
       "      <td>False</td>\n",
       "      <td>False</td>\n",
       "      <td>False</td>\n",
       "      <td>False</td>\n",
       "    </tr>\n",
       "    <tr>\n",
       "      <th>18</th>\n",
       "      <td>Front-End Developer</td>\n",
       "      <td>$52K-$94K (Glassdoor est.)</td>\n",
       "      <td>Position: Front-End Developer\\r\\nLocation: Por...</td>\n",
       "      <td>3.7</td>\n",
       "      <td>Creative Circle\\r\\n3.7</td>\n",
       "      <td>Portland, OR</td>\n",
       "      <td>Los Angeles, CA</td>\n",
       "      <td>201 to 500 employees</td>\n",
       "      <td>2002</td>\n",
       "      <td>Company - Public</td>\n",
       "      <td>Staffing &amp; Outsourcing</td>\n",
       "      <td>Business Services</td>\n",
       "      <td>Unknown / Non-Applicable</td>\n",
       "      <td>Aquent, 24 Seven Talent</td>\n",
       "      <td>52</td>\n",
       "      <td>94</td>\n",
       "      <td>73.0</td>\n",
       "      <td>Creative Circle\\r\\n</td>\n",
       "      <td>True</td>\n",
       "      <td>18</td>\n",
       "      <td>True</td>\n",
       "      <td>True</td>\n",
       "      <td>False</td>\n",
       "      <td>False</td>\n",
       "      <td>False</td>\n",
       "      <td>False</td>\n",
       "    </tr>\n",
       "    <tr>\n",
       "      <th>19</th>\n",
       "      <td>Web Developer</td>\n",
       "      <td>$52K-$94K (Glassdoor est.)</td>\n",
       "      <td>Web Developer\\r\\n\\r\\nTPD is looking for a Web ...</td>\n",
       "      <td>4.0</td>\n",
       "      <td>TPD\\r\\n4.0</td>\n",
       "      <td>Portland, OR</td>\n",
       "      <td>Portland, OR</td>\n",
       "      <td>1 to 50 employees</td>\n",
       "      <td>1980</td>\n",
       "      <td>Company - Private</td>\n",
       "      <td>Staffing &amp; Outsourcing</td>\n",
       "      <td>Business Services</td>\n",
       "      <td>$1 to $5 million (USD)</td>\n",
       "      <td>-1</td>\n",
       "      <td>52</td>\n",
       "      <td>94</td>\n",
       "      <td>73.0</td>\n",
       "      <td>TPD\\r\\n</td>\n",
       "      <td>True</td>\n",
       "      <td>40</td>\n",
       "      <td>False</td>\n",
       "      <td>False</td>\n",
       "      <td>False</td>\n",
       "      <td>False</td>\n",
       "      <td>False</td>\n",
       "      <td>False</td>\n",
       "    </tr>\n",
       "  </tbody>\n",
       "</table>\n",
       "</div>"
      ],
      "text/plain": [
       "                                            Job Title  \\\n",
       "0                                  Software Developer   \n",
       "1                                  Software Developer   \n",
       "2                                       App Developer   \n",
       "3                              Lead Software Engineer   \n",
       "4                                   Software Engineer   \n",
       "5      Jr. C++ Software Engineer - ArcGIS Runtime SDK   \n",
       "6                          Frontend Software Engineer   \n",
       "7                                   Software Engineer   \n",
       "8                                   Software Engineer   \n",
       "9           iOS/Android Runtime SDK Software Engineer   \n",
       "10                          Junior Software Developer   \n",
       "11                     Software Engineer (All Levels)   \n",
       "12                                  Software Engineer   \n",
       "13  Software Development Technologist - Hillsboro, OR   \n",
       "14                                 Software Developer   \n",
       "15                                  Software Engineer   \n",
       "16                        Software Engineer (Level 1)   \n",
       "17                                 Software Developer   \n",
       "18                                Front-End Developer   \n",
       "19                                      Web Developer   \n",
       "\n",
       "               Salary Estimate  \\\n",
       "0   $52K-$94K (Glassdoor est.)   \n",
       "1   $52K-$94K (Glassdoor est.)   \n",
       "2   $52K-$94K (Glassdoor est.)   \n",
       "3   $52K-$94K (Glassdoor est.)   \n",
       "4   $52K-$94K (Glassdoor est.)   \n",
       "5   $52K-$94K (Glassdoor est.)   \n",
       "6   $52K-$94K (Glassdoor est.)   \n",
       "7   $52K-$94K (Glassdoor est.)   \n",
       "8   $52K-$94K (Glassdoor est.)   \n",
       "9   $52K-$94K (Glassdoor est.)   \n",
       "10  $52K-$94K (Glassdoor est.)   \n",
       "11  $52K-$94K (Glassdoor est.)   \n",
       "12  $52K-$94K (Glassdoor est.)   \n",
       "13  $52K-$94K (Glassdoor est.)   \n",
       "14  $52K-$94K (Glassdoor est.)   \n",
       "15  $52K-$94K (Glassdoor est.)   \n",
       "16  $52K-$94K (Glassdoor est.)   \n",
       "17  $52K-$94K (Glassdoor est.)   \n",
       "18  $52K-$94K (Glassdoor est.)   \n",
       "19  $52K-$94K (Glassdoor est.)   \n",
       "\n",
       "                                      Job Description  Rating  \\\n",
       "0   We're looking for a Software Developer to join...     3.6   \n",
       "1   Cinder is looking for a *Software Engineer* to...     3.4   \n",
       "2   Essential Functions:\\r\\n\\r\\n§ Responsible for ...     3.9   \n",
       "3   Why Smarsh?\\r\\nOur motto is ‘People First. Ins...     3.5   \n",
       "4   What will you contribute?\\r\\n\\r\\nThe Software ...     3.2   \n",
       "5   Overview\\r\\n\\r\\n\\r\\nDo you have a passion for ...     3.5   \n",
       "6   Your Opportunity\\r\\n\\r\\n\\r\\nThe Developer Expe...     4.5   \n",
       "7   Software Engineer - Kafka Platform Team\\r\\nYou...     4.5   \n",
       "8   Primary Function\\r\\n\\r\\n\\r\\nWe are seeking an ...     3.7   \n",
       "9   Overview\\r\\n\\r\\n\\r\\nIf you have a passion for ...     3.5   \n",
       "10  Hi, we’re Big Zeta, a small group of fun-lovin...    -1.0   \n",
       "11  Our mission is to help organizations, big and ...     5.0   \n",
       "12  Who We Are\\r\\n\\r\\nOpen Up Resources is a nonpr...    -1.0   \n",
       "13  Quick apply »\\r\\n\\r\\n\\r\\n\\r\\nSoftware Developm...     3.5   \n",
       "14  SOFTWARE DEVELOPER\\r\\n\\r\\nWORKING ENVIRONMENT\\...     4.5   \n",
       "15  Work with cutting-edge technology. Data Scienc...    -1.0   \n",
       "16  Company Description\\r\\n\\r\\nSemiconductor\\r\\n\\r...     3.7   \n",
       "17  RESPONSIBILITIES:\\r\\n\\r\\nKforce has a client i...     4.1   \n",
       "18  Position: Front-End Developer\\r\\nLocation: Por...     3.7   \n",
       "19  Web Developer\\r\\n\\r\\nTPD is looking for a Web ...     4.0   \n",
       "\n",
       "                                Company Name       Location  \\\n",
       "0                              Suvoda\\r\\n3.6   Portland, OR   \n",
       "1                     Cinder Staffing\\r\\n3.4  Hillsboro, OR   \n",
       "2   Regional Multiple Listing Service\\r\\n3.9   Portland, OR   \n",
       "3                              Smarsh\\r\\n3.5   Portland, OR   \n",
       "4                            Finastra\\r\\n3.2   Portland, OR   \n",
       "5                                Esri\\r\\n3.5   Portland, OR   \n",
       "6                           New Relic\\r\\n4.5   Portland, OR   \n",
       "7                           New Relic\\r\\n4.5   Portland, OR   \n",
       "8                          TeamPeople\\r\\n3.7  Hillsboro, OR   \n",
       "9                                Esri\\r\\n3.5   Portland, OR   \n",
       "10                                  Big Zeta   Portland, OR   \n",
       "11                     Datawire, Inc.\\r\\n5.0   Portland, OR   \n",
       "12                         Open Up Resources   Portland, OR   \n",
       "13                Edwards Vacuum, LLC\\r\\n3.5  Hillsboro, OR   \n",
       "14                   NantEnergy, Inc.\\r\\n4.5      Camas, WA   \n",
       "15                             Aspen Capital   Portland, OR   \n",
       "16               Infotree Service Inc\\r\\n3.7  Hillsboro, OR   \n",
       "17                             Kforce\\r\\n4.1  Beaverton, OR   \n",
       "18                    Creative Circle\\r\\n3.7   Portland, OR   \n",
       "19                                TPD\\r\\n4.0   Portland, OR   \n",
       "\n",
       "                    Headquarters                    Size  Founded  \\\n",
       "0               Conshohocken, PA    201 to 500 employees     2012   \n",
       "1                  Beaverton, OR     51 to 200 employees       -1   \n",
       "2                   Portland, OR       1 to 50 employees       -1   \n",
       "3                   Portland, OR   501 to 1000 employees     2001   \n",
       "4         London, United Kingdom        10000+ employees     2017   \n",
       "5                   Redlands, CA  1001 to 5000 employees     1969   \n",
       "6              San Francisco, CA  1001 to 5000 employees     2008   \n",
       "7              San Francisco, CA  1001 to 5000 employees     2008   \n",
       "8               Falls Church, VA   501 to 1000 employees     2004   \n",
       "9                   Redlands, CA  1001 to 5000 employees     1969   \n",
       "10                     Boise, ID     51 to 200 employees       -1   \n",
       "11                    Boston, MA       1 to 50 employees       -1   \n",
       "12                Menlo Park, CA       1 to 50 employees       -1   \n",
       "13  Burgess Hill, United Kingdom  1001 to 5000 employees     1919   \n",
       "14                Scottsdale, AZ     51 to 200 employees       -1   \n",
       "15                Washington, DC       1 to 50 employees       -1   \n",
       "16                    Canton, MI     51 to 200 employees     2004   \n",
       "17                     Tampa, FL        10000+ employees     1966   \n",
       "18               Los Angeles, CA    201 to 500 employees     2002   \n",
       "19                  Portland, OR       1 to 50 employees     1980   \n",
       "\n",
       "          Type of ownership                                 Industry  \\\n",
       "0         Company - Private  Enterprise Software & Network Solutions   \n",
       "1         Company - Private                   Staffing & Outsourcing   \n",
       "2         Company - Private                                 Internet   \n",
       "3         Company - Private             Computer Hardware & Software   \n",
       "4         Company - Private         Financial Transaction Processing   \n",
       "5         Company - Private             Computer Hardware & Software   \n",
       "6          Company - Public             Computer Hardware & Software   \n",
       "7          Company - Public             Computer Hardware & Software   \n",
       "8         Company - Private                   Staffing & Outsourcing   \n",
       "9         Company - Private             Computer Hardware & Software   \n",
       "10        Company - Private                                       -1   \n",
       "11        Company - Private  Enterprise Software & Network Solutions   \n",
       "12   Nonprofit Organization                           K-12 Education   \n",
       "13         Company - Public                 Industrial Manufacturing   \n",
       "14                  Unknown                                       -1   \n",
       "15  Private Practice / Firm                                       -1   \n",
       "16        Company - Private                  Advertising & Marketing   \n",
       "17         Company - Public                   Staffing & Outsourcing   \n",
       "18         Company - Public                   Staffing & Outsourcing   \n",
       "19        Company - Private                   Staffing & Outsourcing   \n",
       "\n",
       "                    Sector                     Revenue  \\\n",
       "0   Information Technology    Unknown / Non-Applicable   \n",
       "1        Business Services  Less than $1 million (USD)   \n",
       "2   Information Technology      $1 to $5 million (USD)   \n",
       "3   Information Technology  $100 to $500 million (USD)   \n",
       "4                  Finance      $2 to $5 billion (USD)   \n",
       "5   Information Technology      $1 to $2 billion (USD)   \n",
       "6   Information Technology  $100 to $500 million (USD)   \n",
       "7   Information Technology  $100 to $500 million (USD)   \n",
       "8        Business Services   $50 to $100 million (USD)   \n",
       "9   Information Technology      $1 to $2 billion (USD)   \n",
       "10                      -1    Unknown / Non-Applicable   \n",
       "11  Information Technology    Unknown / Non-Applicable   \n",
       "12               Education    Unknown / Non-Applicable   \n",
       "13           Manufacturing      $1 to $2 billion (USD)   \n",
       "14                      -1    Unknown / Non-Applicable   \n",
       "15                      -1    Unknown / Non-Applicable   \n",
       "16       Business Services      $1 to $5 million (USD)   \n",
       "17       Business Services      $1 to $2 billion (USD)   \n",
       "18       Business Services    Unknown / Non-Applicable   \n",
       "19       Business Services      $1 to $5 million (USD)   \n",
       "\n",
       "                                    Competitors  min_salary  max_salary  \\\n",
       "0                                            -1          52          94   \n",
       "1                                            -1          52          94   \n",
       "2                                            -1          52          94   \n",
       "3                  Global Relay, NortonLifeLock          52          94   \n",
       "4                                            -1          52          94   \n",
       "5                                  Pitney Bowes          52          94   \n",
       "6               AppDynamics, Datadog, Dynatrace          52          94   \n",
       "7               AppDynamics, Datadog, Dynatrace          52          94   \n",
       "8   Aquent, Creative Circle, Maslow Media Group          52          94   \n",
       "9                                  Pitney Bowes          52          94   \n",
       "10                                           -1          52          94   \n",
       "11                                           -1          52          94   \n",
       "12                                           -1          52          94   \n",
       "13   Pfeiffer Vacuum, Ebara Technologies, Busch          52          94   \n",
       "14                                           -1          52          94   \n",
       "15                                           -1          52          94   \n",
       "16                                           -1          52          94   \n",
       "17                                           -1          52          94   \n",
       "18                      Aquent, 24 Seven Talent          52          94   \n",
       "19                                           -1          52          94   \n",
       "\n",
       "    average_salary                       company_fullname  in_PDX  age  \\\n",
       "0             73.0                             Suvoda\\r\\n    True    8   \n",
       "1             73.0                    Cinder Staffing\\r\\n   False   -1   \n",
       "2             73.0  Regional Multiple Listing Service\\r\\n    True   -1   \n",
       "3             73.0                             Smarsh\\r\\n    True   19   \n",
       "4             73.0                           Finastra\\r\\n    True    3   \n",
       "5             73.0                               Esri\\r\\n    True   51   \n",
       "6             73.0                          New Relic\\r\\n    True   12   \n",
       "7             73.0                          New Relic\\r\\n    True   12   \n",
       "8             73.0                         TeamPeople\\r\\n   False   16   \n",
       "9             73.0                               Esri\\r\\n    True   51   \n",
       "10            73.0                               Big Zeta    True   -1   \n",
       "11            73.0                     Datawire, Inc.\\r\\n    True   -1   \n",
       "12            73.0                      Open Up Resources    True   -1   \n",
       "13            73.0                Edwards Vacuum, LLC\\r\\n   False  101   \n",
       "14            73.0                   NantEnergy, Inc.\\r\\n   False   -1   \n",
       "15            73.0                          Aspen Capital    True   -1   \n",
       "16            73.0               Infotree Service Inc\\r\\n   False   16   \n",
       "17            73.0                             Kforce\\r\\n   False   54   \n",
       "18            73.0                    Creative Circle\\r\\n    True   18   \n",
       "19            73.0                                TPD\\r\\n    True   40   \n",
       "\n",
       "    javascript_yn  react_yn  node_yn  mongodb_yn  heroku_yn  webpack_yn  \n",
       "0           False     False    False       False      False       False  \n",
       "1           False     False    False       False      False       False  \n",
       "2           False     False    False       False      False       False  \n",
       "3           False      True     True       False      False       False  \n",
       "4           False     False    False       False      False       False  \n",
       "5           False     False    False       False      False       False  \n",
       "6           False      True     True       False      False       False  \n",
       "7           False     False    False       False      False       False  \n",
       "8           False     False    False       False      False       False  \n",
       "9           False     False    False       False      False       False  \n",
       "10           True      True    False       False      False       False  \n",
       "11          False     False    False       False      False       False  \n",
       "12           True     False    False       False      False       False  \n",
       "13           True     False    False       False      False       False  \n",
       "14          False     False    False       False      False       False  \n",
       "15          False     False    False       False      False       False  \n",
       "16          False     False    False       False      False       False  \n",
       "17          False     False    False       False      False       False  \n",
       "18           True      True    False       False      False       False  \n",
       "19          False     False    False       False      False       False  "
      ]
     },
     "execution_count": 6,
     "metadata": {},
     "output_type": "execute_result"
    }
   ],
   "source": [
    "df.head(20)"
   ]
  },
  {
   "cell_type": "code",
   "execution_count": 7,
   "metadata": {},
   "outputs": [],
   "source": [
    "def title_simplifier(title):\n",
    "    if 'software engineer' in title.lower():\n",
    "        return 'software engineer'\n",
    "    elif 'software developer' in title.lower():\n",
    "        return 'software developer'\n",
    "    elif 'web developer' in title.lower():\n",
    "        return 'web developer'\n",
    "    elif 'UX' in title.lower():\n",
    "        return 'UX'\n",
    "    elif 'frontend' in title.lower() or 'front-end' in title.lower():\n",
    "        return 'frontend'\n",
    "    elif 'backend' in title.lower() or 'back-end' in title.lower():\n",
    "        return 'backend'\n",
    "    else:\n",
    "        return 'na'\n",
    "    \n",
    "def seniority(title):\n",
    "    if 'sr' in title.lower() or 'senior' in title.lower() or 'sr' in title.lower() or 'lead' in title.lower() or 'principal' in title.lower():\n",
    "            return 'senior'\n",
    "    elif 'jr' in title.lower() or 'jr.' in title.lower() or 'junior' in title.lower() or 'entry' in title.lower():\n",
    "        return 'jr'\n",
    "    else:\n",
    "        return 'na'"
   ]
  },
  {
   "cell_type": "code",
   "execution_count": 8,
   "metadata": {},
   "outputs": [],
   "source": [
    "df['simplified_title'] = df['Job Title'].apply(title_simplifier)"
   ]
  },
  {
   "cell_type": "code",
   "execution_count": 9,
   "metadata": {},
   "outputs": [
    {
     "data": {
      "text/plain": [
       "software engineer     144\n",
       "na                     89\n",
       "software developer     21\n",
       "web developer           6\n",
       "frontend                3\n",
       "backend                 2\n",
       "Name: simplified_title, dtype: int64"
      ]
     },
     "execution_count": 9,
     "metadata": {},
     "output_type": "execute_result"
    }
   ],
   "source": [
    "df.simplified_title.value_counts()"
   ]
  },
  {
   "cell_type": "code",
   "execution_count": 10,
   "metadata": {},
   "outputs": [],
   "source": [
    "df['seniority'] = df['Job Title'].apply(seniority)"
   ]
  },
  {
   "cell_type": "code",
   "execution_count": 11,
   "metadata": {},
   "outputs": [
    {
     "data": {
      "text/plain": [
       "na        160\n",
       "senior    103\n",
       "jr          2\n",
       "Name: seniority, dtype: int64"
      ]
     },
     "execution_count": 11,
     "metadata": {},
     "output_type": "execute_result"
    }
   ],
   "source": [
    "df.seniority.value_counts()"
   ]
  },
  {
   "cell_type": "code",
   "execution_count": 12,
   "metadata": {},
   "outputs": [],
   "source": [
    "df['description_length'] = df['Job Description'].apply(lambda x: len(x))"
   ]
  },
  {
   "cell_type": "code",
   "execution_count": 13,
   "metadata": {},
   "outputs": [
    {
     "data": {
      "text/html": [
       "<div>\n",
       "<style scoped>\n",
       "    .dataframe tbody tr th:only-of-type {\n",
       "        vertical-align: middle;\n",
       "    }\n",
       "\n",
       "    .dataframe tbody tr th {\n",
       "        vertical-align: top;\n",
       "    }\n",
       "\n",
       "    .dataframe thead th {\n",
       "        text-align: right;\n",
       "    }\n",
       "</style>\n",
       "<table border=\"1\" class=\"dataframe\">\n",
       "  <thead>\n",
       "    <tr style=\"text-align: right;\">\n",
       "      <th></th>\n",
       "      <th>Job Title</th>\n",
       "      <th>Salary Estimate</th>\n",
       "      <th>Job Description</th>\n",
       "      <th>Rating</th>\n",
       "      <th>Company Name</th>\n",
       "      <th>Location</th>\n",
       "      <th>Headquarters</th>\n",
       "      <th>Size</th>\n",
       "      <th>Founded</th>\n",
       "      <th>Type of ownership</th>\n",
       "      <th>Industry</th>\n",
       "      <th>Sector</th>\n",
       "      <th>Revenue</th>\n",
       "      <th>Competitors</th>\n",
       "      <th>min_salary</th>\n",
       "      <th>max_salary</th>\n",
       "      <th>average_salary</th>\n",
       "      <th>company_fullname</th>\n",
       "      <th>in_PDX</th>\n",
       "      <th>age</th>\n",
       "      <th>javascript_yn</th>\n",
       "      <th>react_yn</th>\n",
       "      <th>node_yn</th>\n",
       "      <th>mongodb_yn</th>\n",
       "      <th>heroku_yn</th>\n",
       "      <th>webpack_yn</th>\n",
       "      <th>simplified_title</th>\n",
       "      <th>seniority</th>\n",
       "      <th>description_length</th>\n",
       "    </tr>\n",
       "  </thead>\n",
       "  <tbody>\n",
       "    <tr>\n",
       "      <th>0</th>\n",
       "      <td>Software Developer</td>\n",
       "      <td>$52K-$94K (Glassdoor est.)</td>\n",
       "      <td>We're looking for a Software Developer to join...</td>\n",
       "      <td>3.6</td>\n",
       "      <td>Suvoda\\r\\n3.6</td>\n",
       "      <td>Portland, OR</td>\n",
       "      <td>Conshohocken, PA</td>\n",
       "      <td>201 to 500 employees</td>\n",
       "      <td>2012</td>\n",
       "      <td>Company - Private</td>\n",
       "      <td>Enterprise Software &amp; Network Solutions</td>\n",
       "      <td>Information Technology</td>\n",
       "      <td>Unknown / Non-Applicable</td>\n",
       "      <td>-1</td>\n",
       "      <td>52</td>\n",
       "      <td>94</td>\n",
       "      <td>73.0</td>\n",
       "      <td>Suvoda\\r\\n</td>\n",
       "      <td>True</td>\n",
       "      <td>8</td>\n",
       "      <td>False</td>\n",
       "      <td>False</td>\n",
       "      <td>False</td>\n",
       "      <td>False</td>\n",
       "      <td>False</td>\n",
       "      <td>False</td>\n",
       "      <td>software developer</td>\n",
       "      <td>na</td>\n",
       "      <td>2856</td>\n",
       "    </tr>\n",
       "    <tr>\n",
       "      <th>1</th>\n",
       "      <td>Software Developer</td>\n",
       "      <td>$52K-$94K (Glassdoor est.)</td>\n",
       "      <td>Cinder is looking for a *Software Engineer* to...</td>\n",
       "      <td>3.4</td>\n",
       "      <td>Cinder Staffing\\r\\n3.4</td>\n",
       "      <td>Hillsboro, OR</td>\n",
       "      <td>Beaverton, OR</td>\n",
       "      <td>51 to 200 employees</td>\n",
       "      <td>-1</td>\n",
       "      <td>Company - Private</td>\n",
       "      <td>Staffing &amp; Outsourcing</td>\n",
       "      <td>Business Services</td>\n",
       "      <td>Less than $1 million (USD)</td>\n",
       "      <td>-1</td>\n",
       "      <td>52</td>\n",
       "      <td>94</td>\n",
       "      <td>73.0</td>\n",
       "      <td>Cinder Staffing\\r\\n</td>\n",
       "      <td>False</td>\n",
       "      <td>-1</td>\n",
       "      <td>False</td>\n",
       "      <td>False</td>\n",
       "      <td>False</td>\n",
       "      <td>False</td>\n",
       "      <td>False</td>\n",
       "      <td>False</td>\n",
       "      <td>software developer</td>\n",
       "      <td>na</td>\n",
       "      <td>1962</td>\n",
       "    </tr>\n",
       "    <tr>\n",
       "      <th>2</th>\n",
       "      <td>App Developer</td>\n",
       "      <td>$52K-$94K (Glassdoor est.)</td>\n",
       "      <td>Essential Functions:\\r\\n\\r\\n§ Responsible for ...</td>\n",
       "      <td>3.9</td>\n",
       "      <td>Regional Multiple Listing Service\\r\\n3.9</td>\n",
       "      <td>Portland, OR</td>\n",
       "      <td>Portland, OR</td>\n",
       "      <td>1 to 50 employees</td>\n",
       "      <td>-1</td>\n",
       "      <td>Company - Private</td>\n",
       "      <td>Internet</td>\n",
       "      <td>Information Technology</td>\n",
       "      <td>$1 to $5 million (USD)</td>\n",
       "      <td>-1</td>\n",
       "      <td>52</td>\n",
       "      <td>94</td>\n",
       "      <td>73.0</td>\n",
       "      <td>Regional Multiple Listing Service\\r\\n</td>\n",
       "      <td>True</td>\n",
       "      <td>-1</td>\n",
       "      <td>False</td>\n",
       "      <td>False</td>\n",
       "      <td>False</td>\n",
       "      <td>False</td>\n",
       "      <td>False</td>\n",
       "      <td>False</td>\n",
       "      <td>na</td>\n",
       "      <td>na</td>\n",
       "      <td>1080</td>\n",
       "    </tr>\n",
       "    <tr>\n",
       "      <th>3</th>\n",
       "      <td>Lead Software Engineer</td>\n",
       "      <td>$52K-$94K (Glassdoor est.)</td>\n",
       "      <td>Why Smarsh?\\r\\nOur motto is ‘People First. Ins...</td>\n",
       "      <td>3.5</td>\n",
       "      <td>Smarsh\\r\\n3.5</td>\n",
       "      <td>Portland, OR</td>\n",
       "      <td>Portland, OR</td>\n",
       "      <td>501 to 1000 employees</td>\n",
       "      <td>2001</td>\n",
       "      <td>Company - Private</td>\n",
       "      <td>Computer Hardware &amp; Software</td>\n",
       "      <td>Information Technology</td>\n",
       "      <td>$100 to $500 million (USD)</td>\n",
       "      <td>Global Relay, NortonLifeLock</td>\n",
       "      <td>52</td>\n",
       "      <td>94</td>\n",
       "      <td>73.0</td>\n",
       "      <td>Smarsh\\r\\n</td>\n",
       "      <td>True</td>\n",
       "      <td>19</td>\n",
       "      <td>False</td>\n",
       "      <td>True</td>\n",
       "      <td>True</td>\n",
       "      <td>False</td>\n",
       "      <td>False</td>\n",
       "      <td>False</td>\n",
       "      <td>software engineer</td>\n",
       "      <td>senior</td>\n",
       "      <td>4266</td>\n",
       "    </tr>\n",
       "    <tr>\n",
       "      <th>4</th>\n",
       "      <td>Software Engineer</td>\n",
       "      <td>$52K-$94K (Glassdoor est.)</td>\n",
       "      <td>What will you contribute?\\r\\n\\r\\nThe Software ...</td>\n",
       "      <td>3.2</td>\n",
       "      <td>Finastra\\r\\n3.2</td>\n",
       "      <td>Portland, OR</td>\n",
       "      <td>London, United Kingdom</td>\n",
       "      <td>10000+ employees</td>\n",
       "      <td>2017</td>\n",
       "      <td>Company - Private</td>\n",
       "      <td>Financial Transaction Processing</td>\n",
       "      <td>Finance</td>\n",
       "      <td>$2 to $5 billion (USD)</td>\n",
       "      <td>-1</td>\n",
       "      <td>52</td>\n",
       "      <td>94</td>\n",
       "      <td>73.0</td>\n",
       "      <td>Finastra\\r\\n</td>\n",
       "      <td>True</td>\n",
       "      <td>3</td>\n",
       "      <td>False</td>\n",
       "      <td>False</td>\n",
       "      <td>False</td>\n",
       "      <td>False</td>\n",
       "      <td>False</td>\n",
       "      <td>False</td>\n",
       "      <td>software engineer</td>\n",
       "      <td>na</td>\n",
       "      <td>2341</td>\n",
       "    </tr>\n",
       "    <tr>\n",
       "      <th>...</th>\n",
       "      <td>...</td>\n",
       "      <td>...</td>\n",
       "      <td>...</td>\n",
       "      <td>...</td>\n",
       "      <td>...</td>\n",
       "      <td>...</td>\n",
       "      <td>...</td>\n",
       "      <td>...</td>\n",
       "      <td>...</td>\n",
       "      <td>...</td>\n",
       "      <td>...</td>\n",
       "      <td>...</td>\n",
       "      <td>...</td>\n",
       "      <td>...</td>\n",
       "      <td>...</td>\n",
       "      <td>...</td>\n",
       "      <td>...</td>\n",
       "      <td>...</td>\n",
       "      <td>...</td>\n",
       "      <td>...</td>\n",
       "      <td>...</td>\n",
       "      <td>...</td>\n",
       "      <td>...</td>\n",
       "      <td>...</td>\n",
       "      <td>...</td>\n",
       "      <td>...</td>\n",
       "      <td>...</td>\n",
       "      <td>...</td>\n",
       "      <td>...</td>\n",
       "    </tr>\n",
       "    <tr>\n",
       "      <th>260</th>\n",
       "      <td>Software Engineer</td>\n",
       "      <td>$72K-$125K (Glassdoor est.)</td>\n",
       "      <td>Advantage Resourcing is seeking a Software Eng...</td>\n",
       "      <td>2.7</td>\n",
       "      <td>Advantage Resourcing\\r\\n2.7</td>\n",
       "      <td>Hillsboro, OR</td>\n",
       "      <td>Cincinnati, OH</td>\n",
       "      <td>10000+ employees</td>\n",
       "      <td>1969</td>\n",
       "      <td>Company - Private</td>\n",
       "      <td>Staffing &amp; Outsourcing</td>\n",
       "      <td>Business Services</td>\n",
       "      <td>$1 to $2 billion (USD)</td>\n",
       "      <td>Randstad US, Robert Half, Allegis Group</td>\n",
       "      <td>72</td>\n",
       "      <td>125</td>\n",
       "      <td>98.5</td>\n",
       "      <td>Advantage Resourcing\\r\\n</td>\n",
       "      <td>False</td>\n",
       "      <td>51</td>\n",
       "      <td>False</td>\n",
       "      <td>False</td>\n",
       "      <td>False</td>\n",
       "      <td>False</td>\n",
       "      <td>False</td>\n",
       "      <td>False</td>\n",
       "      <td>software engineer</td>\n",
       "      <td>na</td>\n",
       "      <td>3431</td>\n",
       "    </tr>\n",
       "    <tr>\n",
       "      <th>261</th>\n",
       "      <td>Automation Developer</td>\n",
       "      <td>$72K-$125K (Glassdoor est.)</td>\n",
       "      <td>Cinder is looking for an *Automation Developer...</td>\n",
       "      <td>3.4</td>\n",
       "      <td>Cinder Staffing\\r\\n3.4</td>\n",
       "      <td>Hillsboro, OR</td>\n",
       "      <td>Beaverton, OR</td>\n",
       "      <td>51 to 200 employees</td>\n",
       "      <td>-1</td>\n",
       "      <td>Company - Private</td>\n",
       "      <td>Staffing &amp; Outsourcing</td>\n",
       "      <td>Business Services</td>\n",
       "      <td>Less than $1 million (USD)</td>\n",
       "      <td>-1</td>\n",
       "      <td>72</td>\n",
       "      <td>125</td>\n",
       "      <td>98.5</td>\n",
       "      <td>Cinder Staffing\\r\\n</td>\n",
       "      <td>False</td>\n",
       "      <td>-1</td>\n",
       "      <td>False</td>\n",
       "      <td>False</td>\n",
       "      <td>False</td>\n",
       "      <td>False</td>\n",
       "      <td>False</td>\n",
       "      <td>False</td>\n",
       "      <td>na</td>\n",
       "      <td>na</td>\n",
       "      <td>2073</td>\n",
       "    </tr>\n",
       "    <tr>\n",
       "      <th>262</th>\n",
       "      <td>UI/UX Software Engineer</td>\n",
       "      <td>$72K-$125K (Glassdoor est.)</td>\n",
       "      <td>Advantage Resourcing is seeking a UI/UX Softwa...</td>\n",
       "      <td>2.7</td>\n",
       "      <td>Advantage Resourcing\\r\\n2.7</td>\n",
       "      <td>Hillsboro, OR</td>\n",
       "      <td>Cincinnati, OH</td>\n",
       "      <td>10000+ employees</td>\n",
       "      <td>1969</td>\n",
       "      <td>Company - Private</td>\n",
       "      <td>Staffing &amp; Outsourcing</td>\n",
       "      <td>Business Services</td>\n",
       "      <td>$1 to $2 billion (USD)</td>\n",
       "      <td>Randstad US, Robert Half, Allegis Group</td>\n",
       "      <td>72</td>\n",
       "      <td>125</td>\n",
       "      <td>98.5</td>\n",
       "      <td>Advantage Resourcing\\r\\n</td>\n",
       "      <td>False</td>\n",
       "      <td>51</td>\n",
       "      <td>False</td>\n",
       "      <td>True</td>\n",
       "      <td>False</td>\n",
       "      <td>False</td>\n",
       "      <td>False</td>\n",
       "      <td>False</td>\n",
       "      <td>software engineer</td>\n",
       "      <td>na</td>\n",
       "      <td>2579</td>\n",
       "    </tr>\n",
       "    <tr>\n",
       "      <th>263</th>\n",
       "      <td>Senior Software Analyst - relocation required</td>\n",
       "      <td>$72K-$125K (Glassdoor est.)</td>\n",
       "      <td>The location for this position is in Richland,...</td>\n",
       "      <td>-1.0</td>\n",
       "      <td>Arch Staffing and Consulting</td>\n",
       "      <td>Portland, OR</td>\n",
       "      <td>Grand Rapids, MI</td>\n",
       "      <td>Unknown</td>\n",
       "      <td>-1</td>\n",
       "      <td>Company - Public</td>\n",
       "      <td>-1</td>\n",
       "      <td>-1</td>\n",
       "      <td>Unknown / Non-Applicable</td>\n",
       "      <td>-1</td>\n",
       "      <td>72</td>\n",
       "      <td>125</td>\n",
       "      <td>98.5</td>\n",
       "      <td>Arch Staffing and Consulting</td>\n",
       "      <td>True</td>\n",
       "      <td>-1</td>\n",
       "      <td>False</td>\n",
       "      <td>False</td>\n",
       "      <td>False</td>\n",
       "      <td>False</td>\n",
       "      <td>False</td>\n",
       "      <td>False</td>\n",
       "      <td>na</td>\n",
       "      <td>senior</td>\n",
       "      <td>3632</td>\n",
       "    </tr>\n",
       "    <tr>\n",
       "      <th>264</th>\n",
       "      <td>MTS Software Engineer, Data Infra.</td>\n",
       "      <td>$72K-$125K (Glassdoor est.)</td>\n",
       "      <td>eBay is a global commerce leader that allows y...</td>\n",
       "      <td>3.6</td>\n",
       "      <td>eBay Inc.\\r\\n3.6</td>\n",
       "      <td>Portland, OR</td>\n",
       "      <td>San Jose, CA</td>\n",
       "      <td>10000+ employees</td>\n",
       "      <td>1995</td>\n",
       "      <td>Company - Public</td>\n",
       "      <td>Internet</td>\n",
       "      <td>Information Technology</td>\n",
       "      <td>$10+ billion (USD)</td>\n",
       "      <td>Amazon, Apple</td>\n",
       "      <td>72</td>\n",
       "      <td>125</td>\n",
       "      <td>98.5</td>\n",
       "      <td>eBay Inc.\\r\\n</td>\n",
       "      <td>True</td>\n",
       "      <td>25</td>\n",
       "      <td>False</td>\n",
       "      <td>False</td>\n",
       "      <td>False</td>\n",
       "      <td>False</td>\n",
       "      <td>False</td>\n",
       "      <td>False</td>\n",
       "      <td>software engineer</td>\n",
       "      <td>na</td>\n",
       "      <td>5095</td>\n",
       "    </tr>\n",
       "  </tbody>\n",
       "</table>\n",
       "<p>265 rows × 29 columns</p>\n",
       "</div>"
      ],
      "text/plain": [
       "                                         Job Title  \\\n",
       "0                               Software Developer   \n",
       "1                               Software Developer   \n",
       "2                                    App Developer   \n",
       "3                           Lead Software Engineer   \n",
       "4                                Software Engineer   \n",
       "..                                             ...   \n",
       "260                              Software Engineer   \n",
       "261                           Automation Developer   \n",
       "262                        UI/UX Software Engineer   \n",
       "263  Senior Software Analyst - relocation required   \n",
       "264             MTS Software Engineer, Data Infra.   \n",
       "\n",
       "                 Salary Estimate  \\\n",
       "0     $52K-$94K (Glassdoor est.)   \n",
       "1     $52K-$94K (Glassdoor est.)   \n",
       "2     $52K-$94K (Glassdoor est.)   \n",
       "3     $52K-$94K (Glassdoor est.)   \n",
       "4     $52K-$94K (Glassdoor est.)   \n",
       "..                           ...   \n",
       "260  $72K-$125K (Glassdoor est.)   \n",
       "261  $72K-$125K (Glassdoor est.)   \n",
       "262  $72K-$125K (Glassdoor est.)   \n",
       "263  $72K-$125K (Glassdoor est.)   \n",
       "264  $72K-$125K (Glassdoor est.)   \n",
       "\n",
       "                                       Job Description  Rating  \\\n",
       "0    We're looking for a Software Developer to join...     3.6   \n",
       "1    Cinder is looking for a *Software Engineer* to...     3.4   \n",
       "2    Essential Functions:\\r\\n\\r\\n§ Responsible for ...     3.9   \n",
       "3    Why Smarsh?\\r\\nOur motto is ‘People First. Ins...     3.5   \n",
       "4    What will you contribute?\\r\\n\\r\\nThe Software ...     3.2   \n",
       "..                                                 ...     ...   \n",
       "260  Advantage Resourcing is seeking a Software Eng...     2.7   \n",
       "261  Cinder is looking for an *Automation Developer...     3.4   \n",
       "262  Advantage Resourcing is seeking a UI/UX Softwa...     2.7   \n",
       "263  The location for this position is in Richland,...    -1.0   \n",
       "264  eBay is a global commerce leader that allows y...     3.6   \n",
       "\n",
       "                                 Company Name       Location  \\\n",
       "0                               Suvoda\\r\\n3.6   Portland, OR   \n",
       "1                      Cinder Staffing\\r\\n3.4  Hillsboro, OR   \n",
       "2    Regional Multiple Listing Service\\r\\n3.9   Portland, OR   \n",
       "3                               Smarsh\\r\\n3.5   Portland, OR   \n",
       "4                             Finastra\\r\\n3.2   Portland, OR   \n",
       "..                                        ...            ...   \n",
       "260               Advantage Resourcing\\r\\n2.7  Hillsboro, OR   \n",
       "261                    Cinder Staffing\\r\\n3.4  Hillsboro, OR   \n",
       "262               Advantage Resourcing\\r\\n2.7  Hillsboro, OR   \n",
       "263              Arch Staffing and Consulting   Portland, OR   \n",
       "264                          eBay Inc.\\r\\n3.6   Portland, OR   \n",
       "\n",
       "               Headquarters                   Size  Founded  \\\n",
       "0          Conshohocken, PA   201 to 500 employees     2012   \n",
       "1             Beaverton, OR    51 to 200 employees       -1   \n",
       "2              Portland, OR      1 to 50 employees       -1   \n",
       "3              Portland, OR  501 to 1000 employees     2001   \n",
       "4    London, United Kingdom       10000+ employees     2017   \n",
       "..                      ...                    ...      ...   \n",
       "260          Cincinnati, OH       10000+ employees     1969   \n",
       "261           Beaverton, OR    51 to 200 employees       -1   \n",
       "262          Cincinnati, OH       10000+ employees     1969   \n",
       "263        Grand Rapids, MI                Unknown       -1   \n",
       "264            San Jose, CA       10000+ employees     1995   \n",
       "\n",
       "     Type of ownership                                 Industry  \\\n",
       "0    Company - Private  Enterprise Software & Network Solutions   \n",
       "1    Company - Private                   Staffing & Outsourcing   \n",
       "2    Company - Private                                 Internet   \n",
       "3    Company - Private             Computer Hardware & Software   \n",
       "4    Company - Private         Financial Transaction Processing   \n",
       "..                 ...                                      ...   \n",
       "260  Company - Private                   Staffing & Outsourcing   \n",
       "261  Company - Private                   Staffing & Outsourcing   \n",
       "262  Company - Private                   Staffing & Outsourcing   \n",
       "263   Company - Public                                       -1   \n",
       "264   Company - Public                                 Internet   \n",
       "\n",
       "                     Sector                     Revenue  \\\n",
       "0    Information Technology    Unknown / Non-Applicable   \n",
       "1         Business Services  Less than $1 million (USD)   \n",
       "2    Information Technology      $1 to $5 million (USD)   \n",
       "3    Information Technology  $100 to $500 million (USD)   \n",
       "4                   Finance      $2 to $5 billion (USD)   \n",
       "..                      ...                         ...   \n",
       "260       Business Services      $1 to $2 billion (USD)   \n",
       "261       Business Services  Less than $1 million (USD)   \n",
       "262       Business Services      $1 to $2 billion (USD)   \n",
       "263                      -1    Unknown / Non-Applicable   \n",
       "264  Information Technology          $10+ billion (USD)   \n",
       "\n",
       "                                 Competitors  min_salary  max_salary  \\\n",
       "0                                         -1          52          94   \n",
       "1                                         -1          52          94   \n",
       "2                                         -1          52          94   \n",
       "3               Global Relay, NortonLifeLock          52          94   \n",
       "4                                         -1          52          94   \n",
       "..                                       ...         ...         ...   \n",
       "260  Randstad US, Robert Half, Allegis Group          72         125   \n",
       "261                                       -1          72         125   \n",
       "262  Randstad US, Robert Half, Allegis Group          72         125   \n",
       "263                                       -1          72         125   \n",
       "264                            Amazon, Apple          72         125   \n",
       "\n",
       "     average_salary                       company_fullname  in_PDX  age  \\\n",
       "0              73.0                             Suvoda\\r\\n    True    8   \n",
       "1              73.0                    Cinder Staffing\\r\\n   False   -1   \n",
       "2              73.0  Regional Multiple Listing Service\\r\\n    True   -1   \n",
       "3              73.0                             Smarsh\\r\\n    True   19   \n",
       "4              73.0                           Finastra\\r\\n    True    3   \n",
       "..              ...                                    ...     ...  ...   \n",
       "260            98.5               Advantage Resourcing\\r\\n   False   51   \n",
       "261            98.5                    Cinder Staffing\\r\\n   False   -1   \n",
       "262            98.5               Advantage Resourcing\\r\\n   False   51   \n",
       "263            98.5           Arch Staffing and Consulting    True   -1   \n",
       "264            98.5                          eBay Inc.\\r\\n    True   25   \n",
       "\n",
       "     javascript_yn  react_yn  node_yn  mongodb_yn  heroku_yn  webpack_yn  \\\n",
       "0            False     False    False       False      False       False   \n",
       "1            False     False    False       False      False       False   \n",
       "2            False     False    False       False      False       False   \n",
       "3            False      True     True       False      False       False   \n",
       "4            False     False    False       False      False       False   \n",
       "..             ...       ...      ...         ...        ...         ...   \n",
       "260          False     False    False       False      False       False   \n",
       "261          False     False    False       False      False       False   \n",
       "262          False      True    False       False      False       False   \n",
       "263          False     False    False       False      False       False   \n",
       "264          False     False    False       False      False       False   \n",
       "\n",
       "       simplified_title seniority  description_length  \n",
       "0    software developer        na                2856  \n",
       "1    software developer        na                1962  \n",
       "2                    na        na                1080  \n",
       "3     software engineer    senior                4266  \n",
       "4     software engineer        na                2341  \n",
       "..                  ...       ...                 ...  \n",
       "260   software engineer        na                3431  \n",
       "261                  na        na                2073  \n",
       "262   software engineer        na                2579  \n",
       "263                  na    senior                3632  \n",
       "264   software engineer        na                5095  \n",
       "\n",
       "[265 rows x 29 columns]"
      ]
     },
     "execution_count": 13,
     "metadata": {},
     "output_type": "execute_result"
    }
   ],
   "source": [
    "df"
   ]
  },
  {
   "cell_type": "code",
   "execution_count": 14,
   "metadata": {},
   "outputs": [],
   "source": [
    "df['comp_count'] = df['Competitors'].apply(lambda x: len(x.split(',')) if x != '-1' else 0)"
   ]
  },
  {
   "cell_type": "code",
   "execution_count": 15,
   "metadata": {},
   "outputs": [
    {
     "data": {
      "text/plain": [
       "0      0\n",
       "1      0\n",
       "2      0\n",
       "3      2\n",
       "4      0\n",
       "      ..\n",
       "260    3\n",
       "261    0\n",
       "262    3\n",
       "263    0\n",
       "264    2\n",
       "Name: comp_count, Length: 265, dtype: int64"
      ]
     },
     "execution_count": 15,
     "metadata": {},
     "output_type": "execute_result"
    }
   ],
   "source": [
    "df.comp_count"
   ]
  },
  {
   "cell_type": "code",
   "execution_count": 16,
   "metadata": {},
   "outputs": [
    {
     "data": {
      "text/plain": [
       "Index(['Job Title', 'Salary Estimate', 'Job Description', 'Rating',\n",
       "       'Company Name', 'Location', 'Headquarters', 'Size', 'Founded',\n",
       "       'Type of ownership', 'Industry', 'Sector', 'Revenue', 'Competitors',\n",
       "       'min_salary', 'max_salary', 'average_salary', 'company_fullname',\n",
       "       'in_PDX', 'age', 'javascript_yn', 'react_yn', 'node_yn', 'mongodb_yn',\n",
       "       'heroku_yn', 'webpack_yn', 'simplified_title', 'seniority',\n",
       "       'description_length', 'comp_count'],\n",
       "      dtype='object')"
      ]
     },
     "execution_count": 16,
     "metadata": {},
     "output_type": "execute_result"
    }
   ],
   "source": [
    "df.columns\n"
   ]
  },
  {
   "cell_type": "code",
   "execution_count": 17,
   "metadata": {},
   "outputs": [],
   "source": [
    "df['company_fullname'] = df.company_fullname.apply(lambda x: x.replace('\\r', ''))"
   ]
  },
  {
   "cell_type": "code",
   "execution_count": 18,
   "metadata": {},
   "outputs": [
    {
     "data": {
      "text/plain": [
       "0                                 Suvoda\\n\n",
       "1                        Cinder Staffing\\n\n",
       "2      Regional Multiple Listing Service\\n\n",
       "3                                 Smarsh\\n\n",
       "4                               Finastra\\n\n",
       "                      ...                 \n",
       "260                 Advantage Resourcing\\n\n",
       "261                      Cinder Staffing\\n\n",
       "262                 Advantage Resourcing\\n\n",
       "263           Arch Staffing and Consulting\n",
       "264                            eBay Inc.\\n\n",
       "Name: company_fullname, Length: 265, dtype: object"
      ]
     },
     "execution_count": 18,
     "metadata": {},
     "output_type": "execute_result"
    }
   ],
   "source": [
    "df.company_fullname"
   ]
  },
  {
   "cell_type": "code",
   "execution_count": 19,
   "metadata": {},
   "outputs": [
    {
     "data": {
      "text/html": [
       "<div>\n",
       "<style scoped>\n",
       "    .dataframe tbody tr th:only-of-type {\n",
       "        vertical-align: middle;\n",
       "    }\n",
       "\n",
       "    .dataframe tbody tr th {\n",
       "        vertical-align: top;\n",
       "    }\n",
       "\n",
       "    .dataframe thead th {\n",
       "        text-align: right;\n",
       "    }\n",
       "</style>\n",
       "<table border=\"1\" class=\"dataframe\">\n",
       "  <thead>\n",
       "    <tr style=\"text-align: right;\">\n",
       "      <th></th>\n",
       "      <th>Rating</th>\n",
       "      <th>Founded</th>\n",
       "      <th>min_salary</th>\n",
       "      <th>max_salary</th>\n",
       "      <th>average_salary</th>\n",
       "      <th>age</th>\n",
       "      <th>description_length</th>\n",
       "      <th>comp_count</th>\n",
       "    </tr>\n",
       "  </thead>\n",
       "  <tbody>\n",
       "    <tr>\n",
       "      <th>count</th>\n",
       "      <td>265.000000</td>\n",
       "      <td>265.000000</td>\n",
       "      <td>265.000000</td>\n",
       "      <td>265.000000</td>\n",
       "      <td>265.000000</td>\n",
       "      <td>265.000000</td>\n",
       "      <td>265.000000</td>\n",
       "      <td>265.000000</td>\n",
       "    </tr>\n",
       "    <tr>\n",
       "      <th>mean</th>\n",
       "      <td>3.417358</td>\n",
       "      <td>1537.822642</td>\n",
       "      <td>69.660377</td>\n",
       "      <td>115.147170</td>\n",
       "      <td>92.403774</td>\n",
       "      <td>24.366038</td>\n",
       "      <td>3461.192453</td>\n",
       "      <td>0.939623</td>\n",
       "    </tr>\n",
       "    <tr>\n",
       "      <th>std</th>\n",
       "      <td>1.515601</td>\n",
       "      <td>834.667523</td>\n",
       "      <td>25.434812</td>\n",
       "      <td>29.046414</td>\n",
       "      <td>26.360467</td>\n",
       "      <td>34.172662</td>\n",
       "      <td>1652.677340</td>\n",
       "      <td>1.286636</td>\n",
       "    </tr>\n",
       "    <tr>\n",
       "      <th>min</th>\n",
       "      <td>-1.000000</td>\n",
       "      <td>-1.000000</td>\n",
       "      <td>36.000000</td>\n",
       "      <td>67.000000</td>\n",
       "      <td>51.500000</td>\n",
       "      <td>-1.000000</td>\n",
       "      <td>132.000000</td>\n",
       "      <td>0.000000</td>\n",
       "    </tr>\n",
       "    <tr>\n",
       "      <th>25%</th>\n",
       "      <td>3.300000</td>\n",
       "      <td>1887.000000</td>\n",
       "      <td>52.000000</td>\n",
       "      <td>98.000000</td>\n",
       "      <td>75.000000</td>\n",
       "      <td>4.000000</td>\n",
       "      <td>2299.000000</td>\n",
       "      <td>0.000000</td>\n",
       "    </tr>\n",
       "    <tr>\n",
       "      <th>50%</th>\n",
       "      <td>3.700000</td>\n",
       "      <td>1992.000000</td>\n",
       "      <td>66.000000</td>\n",
       "      <td>108.000000</td>\n",
       "      <td>87.000000</td>\n",
       "      <td>16.000000</td>\n",
       "      <td>3431.000000</td>\n",
       "      <td>0.000000</td>\n",
       "    </tr>\n",
       "    <tr>\n",
       "      <th>75%</th>\n",
       "      <td>4.200000</td>\n",
       "      <td>2006.000000</td>\n",
       "      <td>72.000000</td>\n",
       "      <td>126.000000</td>\n",
       "      <td>99.000000</td>\n",
       "      <td>28.000000</td>\n",
       "      <td>4508.000000</td>\n",
       "      <td>2.000000</td>\n",
       "    </tr>\n",
       "    <tr>\n",
       "      <th>max</th>\n",
       "      <td>5.000000</td>\n",
       "      <td>2018.000000</td>\n",
       "      <td>126.000000</td>\n",
       "      <td>169.000000</td>\n",
       "      <td>137.000000</td>\n",
       "      <td>222.000000</td>\n",
       "      <td>9464.000000</td>\n",
       "      <td>3.000000</td>\n",
       "    </tr>\n",
       "  </tbody>\n",
       "</table>\n",
       "</div>"
      ],
      "text/plain": [
       "           Rating      Founded  min_salary  max_salary  average_salary  \\\n",
       "count  265.000000   265.000000  265.000000  265.000000      265.000000   \n",
       "mean     3.417358  1537.822642   69.660377  115.147170       92.403774   \n",
       "std      1.515601   834.667523   25.434812   29.046414       26.360467   \n",
       "min     -1.000000    -1.000000   36.000000   67.000000       51.500000   \n",
       "25%      3.300000  1887.000000   52.000000   98.000000       75.000000   \n",
       "50%      3.700000  1992.000000   66.000000  108.000000       87.000000   \n",
       "75%      4.200000  2006.000000   72.000000  126.000000       99.000000   \n",
       "max      5.000000  2018.000000  126.000000  169.000000      137.000000   \n",
       "\n",
       "              age  description_length  comp_count  \n",
       "count  265.000000          265.000000  265.000000  \n",
       "mean    24.366038         3461.192453    0.939623  \n",
       "std     34.172662         1652.677340    1.286636  \n",
       "min     -1.000000          132.000000    0.000000  \n",
       "25%      4.000000         2299.000000    0.000000  \n",
       "50%     16.000000         3431.000000    0.000000  \n",
       "75%     28.000000         4508.000000    2.000000  \n",
       "max    222.000000         9464.000000    3.000000  "
      ]
     },
     "execution_count": 19,
     "metadata": {},
     "output_type": "execute_result"
    }
   ],
   "source": [
    "df.describe()"
   ]
  },
  {
   "cell_type": "code",
   "execution_count": 20,
   "metadata": {},
   "outputs": [
    {
     "data": {
      "text/plain": [
       "<AxesSubplot:>"
      ]
     },
     "execution_count": 20,
     "metadata": {},
     "output_type": "execute_result"
    },
    {
     "data": {
      "image/png": "[encoded data removed]",
      "text/plain": [
       "<Figure size 432x288 with 1 Axes>"
      ]
     },
     "metadata": {
      "needs_background": "light"
     },
     "output_type": "display_data"
    }
   ],
   "source": [
    "df.Rating.hist()"
   ]
  },
  {
   "cell_type": "code",
   "execution_count": 21,
   "metadata": {},
   "outputs": [
    {
     "data": {
      "text/plain": [
       "<AxesSubplot:>"
      ]
     },
     "execution_count": 21,
     "metadata": {},
     "output_type": "execute_result"
    },
    {
     "data": {
      "image/png": "[encoded data removed]",
      "text/plain": [
       "<Figure size 432x288 with 1 Axes>"
      ]
     },
     "metadata": {
      "needs_background": "light"
     },
     "output_type": "display_data"
    }
   ],
   "source": [
    "df.average_salary.hist()"
   ]
  },
  {
   "cell_type": "code",
   "execution_count": 22,
   "metadata": {},
   "outputs": [
    {
     "data": {
      "text/plain": [
       "Index(['Job Title', 'Salary Estimate', 'Job Description', 'Rating',\n",
       "       'Company Name', 'Location', 'Headquarters', 'Size', 'Founded',\n",
       "       'Type of ownership', 'Industry', 'Sector', 'Revenue', 'Competitors',\n",
       "       'min_salary', 'max_salary', 'average_salary', 'company_fullname',\n",
       "       'in_PDX', 'age', 'javascript_yn', 'react_yn', 'node_yn', 'mongodb_yn',\n",
       "       'heroku_yn', 'webpack_yn', 'simplified_title', 'seniority',\n",
       "       'description_length', 'comp_count'],\n",
       "      dtype='object')"
      ]
     },
     "execution_count": 22,
     "metadata": {},
     "output_type": "execute_result"
    }
   ],
   "source": [
    "df.columns"
   ]
  },
  {
   "cell_type": "code",
   "execution_count": 23,
   "metadata": {},
   "outputs": [
    {
     "data": {
      "text/plain": [
       "<AxesSubplot:>"
      ]
     },
     "execution_count": 23,
     "metadata": {},
     "output_type": "execute_result"
    },
    {
     "data": {
      "image/png": "[encoded data removed]",
      "text/plain": [
       "<Figure size 432x288 with 1 Axes>"
      ]
     },
     "metadata": {
      "needs_background": "light"
     },
     "output_type": "display_data"
    }
   ],
   "source": [
    "df.description_length.hist()"
   ]
  },
  {
   "cell_type": "code",
   "execution_count": 24,
   "metadata": {},
   "outputs": [
    {
     "data": {
      "text/plain": [
       "<AxesSubplot:>"
      ]
     },
     "execution_count": 24,
     "metadata": {},
     "output_type": "execute_result"
    },
    {
     "data": {
      "image/png": "[encoded data removed]",
      "text/plain": [
       "<Figure size 432x288 with 1 Axes>"
      ]
     },
     "metadata": {
      "needs_background": "light"
     },
     "output_type": "display_data"
    }
   ],
   "source": [
    "df.boxplot(column = ['age', 'average_salary', 'Rating'])"
   ]
  },
  {
   "cell_type": "code",
   "execution_count": 25,
   "metadata": {},
   "outputs": [
    {
     "data": {
      "text/html": [
       "<div>\n",
       "<style scoped>\n",
       "    .dataframe tbody tr th:only-of-type {\n",
       "        vertical-align: middle;\n",
       "    }\n",
       "\n",
       "    .dataframe tbody tr th {\n",
       "        vertical-align: top;\n",
       "    }\n",
       "\n",
       "    .dataframe thead th {\n",
       "        text-align: right;\n",
       "    }\n",
       "</style>\n",
       "<table border=\"1\" class=\"dataframe\">\n",
       "  <thead>\n",
       "    <tr style=\"text-align: right;\">\n",
       "      <th></th>\n",
       "      <th>Founded</th>\n",
       "      <th>in_PDX</th>\n",
       "      <th>age</th>\n",
       "      <th>javascript_yn</th>\n",
       "      <th>react_yn</th>\n",
       "      <th>node_yn</th>\n",
       "      <th>mongodb_yn</th>\n",
       "      <th>heroku_yn</th>\n",
       "      <th>webpack_yn</th>\n",
       "    </tr>\n",
       "  </thead>\n",
       "  <tbody>\n",
       "    <tr>\n",
       "      <th>Founded</th>\n",
       "      <td>1.000000</td>\n",
       "      <td>-0.045131</td>\n",
       "      <td>0.367743</td>\n",
       "      <td>0.043171</td>\n",
       "      <td>0.071801</td>\n",
       "      <td>-0.011901</td>\n",
       "      <td>-0.000410</td>\n",
       "      <td>NaN</td>\n",
       "      <td>0.059193</td>\n",
       "    </tr>\n",
       "    <tr>\n",
       "      <th>in_PDX</th>\n",
       "      <td>-0.045131</td>\n",
       "      <td>1.000000</td>\n",
       "      <td>-0.218698</td>\n",
       "      <td>0.049092</td>\n",
       "      <td>0.097895</td>\n",
       "      <td>0.000161</td>\n",
       "      <td>0.104247</td>\n",
       "      <td>NaN</td>\n",
       "      <td>-0.062912</td>\n",
       "    </tr>\n",
       "    <tr>\n",
       "      <th>age</th>\n",
       "      <td>0.367743</td>\n",
       "      <td>-0.218698</td>\n",
       "      <td>1.000000</td>\n",
       "      <td>0.211558</td>\n",
       "      <td>0.070718</td>\n",
       "      <td>-0.009807</td>\n",
       "      <td>0.056625</td>\n",
       "      <td>NaN</td>\n",
       "      <td>-0.009514</td>\n",
       "    </tr>\n",
       "    <tr>\n",
       "      <th>javascript_yn</th>\n",
       "      <td>0.043171</td>\n",
       "      <td>0.049092</td>\n",
       "      <td>0.211558</td>\n",
       "      <td>1.000000</td>\n",
       "      <td>0.402006</td>\n",
       "      <td>0.333756</td>\n",
       "      <td>0.210816</td>\n",
       "      <td>NaN</td>\n",
       "      <td>0.173540</td>\n",
       "    </tr>\n",
       "    <tr>\n",
       "      <th>react_yn</th>\n",
       "      <td>0.071801</td>\n",
       "      <td>0.097895</td>\n",
       "      <td>0.070718</td>\n",
       "      <td>0.402006</td>\n",
       "      <td>1.000000</td>\n",
       "      <td>0.286247</td>\n",
       "      <td>0.137579</td>\n",
       "      <td>NaN</td>\n",
       "      <td>0.022957</td>\n",
       "    </tr>\n",
       "    <tr>\n",
       "      <th>node_yn</th>\n",
       "      <td>-0.011901</td>\n",
       "      <td>0.000161</td>\n",
       "      <td>-0.009807</td>\n",
       "      <td>0.333756</td>\n",
       "      <td>0.286247</td>\n",
       "      <td>1.000000</td>\n",
       "      <td>0.146814</td>\n",
       "      <td>NaN</td>\n",
       "      <td>0.148899</td>\n",
       "    </tr>\n",
       "    <tr>\n",
       "      <th>mongodb_yn</th>\n",
       "      <td>-0.000410</td>\n",
       "      <td>0.104247</td>\n",
       "      <td>0.056625</td>\n",
       "      <td>0.210816</td>\n",
       "      <td>0.137579</td>\n",
       "      <td>0.146814</td>\n",
       "      <td>1.000000</td>\n",
       "      <td>NaN</td>\n",
       "      <td>-0.020064</td>\n",
       "    </tr>\n",
       "    <tr>\n",
       "      <th>heroku_yn</th>\n",
       "      <td>NaN</td>\n",
       "      <td>NaN</td>\n",
       "      <td>NaN</td>\n",
       "      <td>NaN</td>\n",
       "      <td>NaN</td>\n",
       "      <td>NaN</td>\n",
       "      <td>NaN</td>\n",
       "      <td>NaN</td>\n",
       "      <td>NaN</td>\n",
       "    </tr>\n",
       "    <tr>\n",
       "      <th>webpack_yn</th>\n",
       "      <td>0.059193</td>\n",
       "      <td>-0.062912</td>\n",
       "      <td>-0.009514</td>\n",
       "      <td>0.173540</td>\n",
       "      <td>0.022957</td>\n",
       "      <td>0.148899</td>\n",
       "      <td>-0.020064</td>\n",
       "      <td>NaN</td>\n",
       "      <td>1.000000</td>\n",
       "    </tr>\n",
       "  </tbody>\n",
       "</table>\n",
       "</div>"
      ],
      "text/plain": [
       "                Founded    in_PDX       age  javascript_yn  react_yn  \\\n",
       "Founded        1.000000 -0.045131  0.367743       0.043171  0.071801   \n",
       "in_PDX        -0.045131  1.000000 -0.218698       0.049092  0.097895   \n",
       "age            0.367743 -0.218698  1.000000       0.211558  0.070718   \n",
       "javascript_yn  0.043171  0.049092  0.211558       1.000000  0.402006   \n",
       "react_yn       0.071801  0.097895  0.070718       0.402006  1.000000   \n",
       "node_yn       -0.011901  0.000161 -0.009807       0.333756  0.286247   \n",
       "mongodb_yn    -0.000410  0.104247  0.056625       0.210816  0.137579   \n",
       "heroku_yn           NaN       NaN       NaN            NaN       NaN   \n",
       "webpack_yn     0.059193 -0.062912 -0.009514       0.173540  0.022957   \n",
       "\n",
       "                node_yn  mongodb_yn  heroku_yn  webpack_yn  \n",
       "Founded       -0.011901   -0.000410        NaN    0.059193  \n",
       "in_PDX         0.000161    0.104247        NaN   -0.062912  \n",
       "age           -0.009807    0.056625        NaN   -0.009514  \n",
       "javascript_yn  0.333756    0.210816        NaN    0.173540  \n",
       "react_yn       0.286247    0.137579        NaN    0.022957  \n",
       "node_yn        1.000000    0.146814        NaN    0.148899  \n",
       "mongodb_yn     0.146814    1.000000        NaN   -0.020064  \n",
       "heroku_yn           NaN         NaN        NaN         NaN  \n",
       "webpack_yn     0.148899   -0.020064        NaN    1.000000  "
      ]
     },
     "execution_count": 25,
     "metadata": {},
     "output_type": "execute_result"
    }
   ],
   "source": [
    "df[['Location', 'Headquarters', 'Size', 'Founded',\n",
    "       'Type of ownership', 'Industry', 'Sector', 'Revenue', 'company_fullname',\n",
    "       'in_PDX', 'age', 'javascript_yn', 'react_yn', 'node_yn', 'mongodb_yn',\n",
    "       'heroku_yn', 'webpack_yn', 'simplified_title',\n",
    "       'seniority']].corr()"
   ]
  },
  {
   "cell_type": "code",
   "execution_count": 38,
   "metadata": {},
   "outputs": [
    {
     "data": {
      "text/plain": [
       "<AxesSubplot:>"
      ]
     },
     "execution_count": 38,
     "metadata": {},
     "output_type": "execute_result"
    },
    {
     "data": {
      "image/png": "[encoded data removed]",
      "text/plain": [
       "<Figure size 432x288 with 2 Axes>"
      ]
     },
     "metadata": {
      "needs_background": "light"
     },
     "output_type": "display_data"
    }
   ],
   "source": [
    "cmap = sns.diverging_palette(220, 10, as_cmap=True)\n",
    "sns.heatmap(df[['average_salary','Job Title', 'Salary Estimate', 'Job Description', 'Rating',\n",
    "       'Company Name', 'Location', 'Headquarters', 'Size', 'Founded',\n",
    "       'Type of ownership', 'Industry', 'Sector', 'Revenue', 'Competitors',\n",
    "       'min_salary', 'max_salary', 'average_salary', 'company_fullname',\n",
    "       'in_PDX', 'age', 'javascript_yn', 'react_yn', 'node_yn', 'mongodb_yn', 'webpack_yn', 'simplified_title', 'seniority',\n",
    "       'description_length', 'comp_count']].corr(), cmap=cmap, vmax=.3, center=0,\n",
    "            square=True, linewidths=.5, cbar_kws={\"shrink\": .5})"
   ]
  },
  {
   "cell_type": "code",
   "execution_count": 27,
   "metadata": {},
   "outputs": [
    {
     "data": {
      "text/plain": [
       "Index(['Job Title', 'Salary Estimate', 'Job Description', 'Rating',\n",
       "       'Company Name', 'Location', 'Headquarters', 'Size', 'Founded',\n",
       "       'Type of ownership', 'Industry', 'Sector', 'Revenue', 'Competitors',\n",
       "       'min_salary', 'max_salary', 'average_salary', 'company_fullname',\n",
       "       'in_PDX', 'age', 'javascript_yn', 'react_yn', 'node_yn', 'mongodb_yn',\n",
       "       'heroku_yn', 'webpack_yn', 'simplified_title', 'seniority',\n",
       "       'description_length', 'comp_count'],\n",
       "      dtype='object')"
      ]
     },
     "execution_count": 27,
     "metadata": {},
     "output_type": "execute_result"
    }
   ],
   "source": [
    "df.columns"
   ]
  },
  {
   "cell_type": "code",
   "execution_count": 28,
   "metadata": {},
   "outputs": [],
   "source": [
    "df_cat = df[['Location', 'Headquarters', 'Size', 'Founded',\n",
    "       'Type of ownership', 'Industry', 'Sector', 'Revenue', 'company_fullname',\n",
    "       'in_PDX', 'age', 'javascript_yn', 'react_yn', 'node_yn', 'mongodb_yn',\n",
    "       'heroku_yn', 'webpack_yn', 'simplified_title',\n",
    "       'seniority']]"
   ]
  },
  {
   "cell_type": "code",
   "execution_count": 29,
   "metadata": {},
   "outputs": [
    {
     "name": "stdout",
     "output_type": "stream",
     "text": [
      "graph for Location: total = 10\n"
     ]
    },
    {
     "data": {
      "image/png": "[encoded data removed]",
      "text/plain": [
       "<Figure size 432x288 with 1 Axes>"
      ]
     },
     "metadata": {
      "needs_background": "light"
     },
     "output_type": "display_data"
    },
    {
     "name": "stdout",
     "output_type": "stream",
     "text": [
      "graph for Headquarters: total = 80\n"
     ]
    },
    {
     "data": {
      "image/png": "[encoded data removed]",
      "text/plain": [
       "<Figure size 432x288 with 1 Axes>"
      ]
     },
     "metadata": {
      "needs_background": "light"
     },
     "output_type": "display_data"
    },
    {
     "name": "stdout",
     "output_type": "stream",
     "text": [
      "graph for Size: total = 9\n"
     ]
    },
    {
     "data": {
      "image/png": "[encoded data removed]",
      "text/plain": [
       "<Figure size 432x288 with 1 Axes>"
      ]
     },
     "metadata": {
      "needs_background": "light"
     },
     "output_type": "display_data"
    },
    {
     "name": "stdout",
     "output_type": "stream",
     "text": [
      "graph for Founded: total = 50\n"
     ]
    },
    {
     "data": {
      "image/png": "[encoded data removed]",
      "text/plain": [
       "<Figure size 432x288 with 1 Axes>"
      ]
     },
     "metadata": {
      "needs_background": "light"
     },
     "output_type": "display_data"
    },
    {
     "name": "stdout",
     "output_type": "stream",
     "text": [
      "graph for Type of ownership: total = 8\n"
     ]
    },
    {
     "data": {
      "image/png": "[encoded data removed]",
      "text/plain": [
       "<Figure size 432x288 with 1 Axes>"
      ]
     },
     "metadata": {
      "needs_background": "light"
     },
     "output_type": "display_data"
    },
    {
     "name": "stdout",
     "output_type": "stream",
     "text": [
      "graph for Industry: total = 31\n"
     ]
    },
    {
     "data": {
      "image/png": "[encoded data removed]",
      "text/plain": [
       "<Figure size 432x288 with 1 Axes>"
      ]
     },
     "metadata": {
      "needs_background": "light"
     },
     "output_type": "display_data"
    },
    {
     "name": "stdout",
     "output_type": "stream",
     "text": [
      "graph for Sector: total = 13\n"
     ]
    },
    {
     "data": {
      "image/png": "[encoded data removed]",
      "text/plain": [
       "<Figure size 432x288 with 1 Axes>"
      ]
     },
     "metadata": {
      "needs_background": "light"
     },
     "output_type": "display_data"
    },
    {
     "name": "stdout",
     "output_type": "stream",
     "text": [
      "graph for Revenue: total = 14\n"
     ]
    },
    {
     "data": {
      "image/png": "[encoded data removed]",
      "text/plain": [
       "<Figure size 432x288 with 1 Axes>"
      ]
     },
     "metadata": {
      "needs_background": "light"
     },
     "output_type": "display_data"
    },
    {
     "name": "stdout",
     "output_type": "stream",
     "text": [
      "graph for company_fullname: total = 142\n"
     ]
    },
    {
     "data": {
      "image/png": "[encoded data removed]",
      "text/plain": [
       "<Figure size 432x288 with 1 Axes>"
      ]
     },
     "metadata": {
      "needs_background": "light"
     },
     "output_type": "display_data"
    },
    {
     "name": "stdout",
     "output_type": "stream",
     "text": [
      "graph for in_PDX: total = 2\n"
     ]
    },
    {
     "data": {
      "image/png": "[encoded data removed]",
      "text/plain": [
       "<Figure size 432x288 with 1 Axes>"
      ]
     },
     "metadata": {
      "needs_background": "light"
     },
     "output_type": "display_data"
    },
    {
     "name": "stdout",
     "output_type": "stream",
     "text": [
      "graph for age: total = 50\n"
     ]
    },
    {
     "data": {
      "image/png": "[encoded data removed]",
      "text/plain": [
       "<Figure size 432x288 with 1 Axes>"
      ]
     },
     "metadata": {
      "needs_background": "light"
     },
     "output_type": "display_data"
    },
    {
     "name": "stdout",
     "output_type": "stream",
     "text": [
      "graph for javascript_yn: total = 2\n"
     ]
    },
    {
     "data": {
      "image/png": "[encoded data removed]",
      "text/plain": [
       "<Figure size 432x288 with 1 Axes>"
      ]
     },
     "metadata": {
      "needs_background": "light"
     },
     "output_type": "display_data"
    },
    {
     "name": "stdout",
     "output_type": "stream",
     "text": [
      "graph for react_yn: total = 2\n"
     ]
    },
    {
     "data": {
      "image/png": "[encoded data removed]",
      "text/plain": [
       "<Figure size 432x288 with 1 Axes>"
      ]
     },
     "metadata": {
      "needs_background": "light"
     },
     "output_type": "display_data"
    },
    {
     "name": "stdout",
     "output_type": "stream",
     "text": [
      "graph for node_yn: total = 2\n"
     ]
    },
    {
     "data": {
      "image/png": "[encoded data removed]",
      "text/plain": [
       "<Figure size 432x288 with 1 Axes>"
      ]
     },
     "metadata": {
      "needs_background": "light"
     },
     "output_type": "display_data"
    },
    {
     "name": "stdout",
     "output_type": "stream",
     "text": [
      "graph for mongodb_yn: total = 2\n"
     ]
    },
    {
     "data": {
      "image/png": "[encoded data removed]",
      "text/plain": [
       "<Figure size 432x288 with 1 Axes>"
      ]
     },
     "metadata": {
      "needs_background": "light"
     },
     "output_type": "display_data"
    },
    {
     "name": "stdout",
     "output_type": "stream",
     "text": [
      "graph for heroku_yn: total = 1\n"
     ]
    },
    {
     "data": {
      "image/png": "[encoded data removed]",
      "text/plain": [
       "<Figure size 432x288 with 1 Axes>"
      ]
     },
     "metadata": {
      "needs_background": "light"
     },
     "output_type": "display_data"
    },
    {
     "name": "stdout",
     "output_type": "stream",
     "text": [
      "graph for webpack_yn: total = 2\n"
     ]
    },
    {
     "data": {
      "image/png": "[encoded data removed]",
      "text/plain": [
       "<Figure size 432x288 with 1 Axes>"
      ]
     },
     "metadata": {
      "needs_background": "light"
     },
     "output_type": "display_data"
    },
    {
     "name": "stdout",
     "output_type": "stream",
     "text": [
      "graph for simplified_title: total = 6\n"
     ]
    },
    {
     "data": {
      "image/png": "[encoded data removed]",
      "text/plain": [
       "<Figure size 432x288 with 1 Axes>"
      ]
     },
     "metadata": {
      "needs_background": "light"
     },
     "output_type": "display_data"
    },
    {
     "name": "stdout",
     "output_type": "stream",
     "text": [
      "graph for seniority: total = 3\n"
     ]
    },
    {
     "data": {
      "image/png": "[encoded data removed]",
      "text/plain": [
       "<Figure size 432x288 with 1 Axes>"
      ]
     },
     "metadata": {
      "needs_background": "light"
     },
     "output_type": "display_data"
    }
   ],
   "source": [
    "for i in df_cat.columns: \n",
    "    cat_num = df_cat[i].value_counts()\n",
    "    print(\"graph for %s: total = %d\" % (i, len(cat_num)))\n",
    "    chart = sns.barplot(x=cat_num.index, y=cat_num)\n",
    "    chart.set_xticklabels(chart.get_xticklabels(), rotation=90)\n",
    "    plt.show()"
   ]
  },
  {
   "cell_type": "code",
   "execution_count": 30,
   "metadata": {},
   "outputs": [
    {
     "name": "stdout",
     "output_type": "stream",
     "text": [
      "graph for Headquarters: total = 25\n"
     ]
    },
    {
     "data": {
      "image/png": "[encoded data removed]",
      "text/plain": [
       "<Figure size 432x288 with 1 Axes>"
      ]
     },
     "metadata": {
      "needs_background": "light"
     },
     "output_type": "display_data"
    },
    {
     "name": "stdout",
     "output_type": "stream",
     "text": [
      "graph for company_fullname: total = 25\n"
     ]
    },
    {
     "data": {
      "image/png": "[encoded data removed]",
      "text/plain": [
       "<Figure size 432x288 with 1 Axes>"
      ]
     },
     "metadata": {
      "needs_background": "light"
     },
     "output_type": "display_data"
    }
   ],
   "source": [
    "for i in df_cat[['Headquarters', 'company_fullname']].columns: \n",
    "    cat_num = df_cat[i].value_counts()[:25]\n",
    "    print(\"graph for %s: total = %d\" % (i, len(cat_num)))\n",
    "    chart = sns.barplot(x=cat_num.index, y=cat_num)\n",
    "    chart.set_xticklabels(chart.get_xticklabels(), rotation=90)\n",
    "    plt.show()"
   ]
  },
  {
   "cell_type": "code",
   "execution_count": 31,
   "metadata": {},
   "outputs": [
    {
     "data": {
      "text/plain": [
       "Index(['Job Title', 'Salary Estimate', 'Job Description', 'Rating',\n",
       "       'Company Name', 'Location', 'Headquarters', 'Size', 'Founded',\n",
       "       'Type of ownership', 'Industry', 'Sector', 'Revenue', 'Competitors',\n",
       "       'min_salary', 'max_salary', 'average_salary', 'company_fullname',\n",
       "       'in_PDX', 'age', 'javascript_yn', 'react_yn', 'node_yn', 'mongodb_yn',\n",
       "       'heroku_yn', 'webpack_yn', 'simplified_title', 'seniority',\n",
       "       'description_length', 'comp_count'],\n",
       "      dtype='object')"
      ]
     },
     "execution_count": 31,
     "metadata": {},
     "output_type": "execute_result"
    }
   ],
   "source": [
    "df.columns"
   ]
  },
  {
   "cell_type": "code",
   "execution_count": 32,
   "metadata": {},
   "outputs": [
    {
     "data": {
      "text/html": [
       "<div>\n",
       "<style scoped>\n",
       "    .dataframe tbody tr th:only-of-type {\n",
       "        vertical-align: middle;\n",
       "    }\n",
       "\n",
       "    .dataframe tbody tr th {\n",
       "        vertical-align: top;\n",
       "    }\n",
       "\n",
       "    .dataframe thead th {\n",
       "        text-align: right;\n",
       "    }\n",
       "</style>\n",
       "<table border=\"1\" class=\"dataframe\">\n",
       "  <thead>\n",
       "    <tr style=\"text-align: right;\">\n",
       "      <th></th>\n",
       "      <th></th>\n",
       "      <th>average_salary</th>\n",
       "    </tr>\n",
       "    <tr>\n",
       "      <th>simplified_title</th>\n",
       "      <th>seniority</th>\n",
       "      <th></th>\n",
       "    </tr>\n",
       "  </thead>\n",
       "  <tbody>\n",
       "    <tr>\n",
       "      <th>backend</th>\n",
       "      <th>na</th>\n",
       "      <td>78.000000</td>\n",
       "    </tr>\n",
       "    <tr>\n",
       "      <th>frontend</th>\n",
       "      <th>na</th>\n",
       "      <td>75.666667</td>\n",
       "    </tr>\n",
       "    <tr>\n",
       "      <th rowspan=\"2\" valign=\"top\">na</th>\n",
       "      <th>na</th>\n",
       "      <td>95.439394</td>\n",
       "    </tr>\n",
       "    <tr>\n",
       "      <th>senior</th>\n",
       "      <td>91.717391</td>\n",
       "    </tr>\n",
       "    <tr>\n",
       "      <th rowspan=\"3\" valign=\"top\">software developer</th>\n",
       "      <th>jr</th>\n",
       "      <td>73.000000</td>\n",
       "    </tr>\n",
       "    <tr>\n",
       "      <th>na</th>\n",
       "      <td>74.676471</td>\n",
       "    </tr>\n",
       "    <tr>\n",
       "      <th>senior</th>\n",
       "      <td>116.500000</td>\n",
       "    </tr>\n",
       "    <tr>\n",
       "      <th rowspan=\"3\" valign=\"top\">software engineer</th>\n",
       "      <th>jr</th>\n",
       "      <td>73.000000</td>\n",
       "    </tr>\n",
       "    <tr>\n",
       "      <th>na</th>\n",
       "      <td>91.954545</td>\n",
       "    </tr>\n",
       "    <tr>\n",
       "      <th>senior</th>\n",
       "      <td>96.324675</td>\n",
       "    </tr>\n",
       "    <tr>\n",
       "      <th>web developer</th>\n",
       "      <th>na</th>\n",
       "      <td>74.083333</td>\n",
       "    </tr>\n",
       "  </tbody>\n",
       "</table>\n",
       "</div>"
      ],
      "text/plain": [
       "                              average_salary\n",
       "simplified_title   seniority                \n",
       "backend            na              78.000000\n",
       "frontend           na              75.666667\n",
       "na                 na              95.439394\n",
       "                   senior          91.717391\n",
       "software developer jr              73.000000\n",
       "                   na              74.676471\n",
       "                   senior         116.500000\n",
       "software engineer  jr              73.000000\n",
       "                   na              91.954545\n",
       "                   senior          96.324675\n",
       "web developer      na              74.083333"
      ]
     },
     "execution_count": 32,
     "metadata": {},
     "output_type": "execute_result"
    }
   ],
   "source": [
    "pd.pivot_table(df, index = ['simplified_title', 'seniority'], values = 'average_salary')"
   ]
  },
  {
   "cell_type": "code",
   "execution_count": 33,
   "metadata": {},
   "outputs": [
    {
     "data": {
      "text/html": [
       "<div>\n",
       "<style scoped>\n",
       "    .dataframe tbody tr th:only-of-type {\n",
       "        vertical-align: middle;\n",
       "    }\n",
       "\n",
       "    .dataframe tbody tr th {\n",
       "        vertical-align: top;\n",
       "    }\n",
       "\n",
       "    .dataframe thead th {\n",
       "        text-align: right;\n",
       "    }\n",
       "</style>\n",
       "<table border=\"1\" class=\"dataframe\">\n",
       "  <thead>\n",
       "    <tr style=\"text-align: right;\">\n",
       "      <th></th>\n",
       "      <th></th>\n",
       "      <th>average_salary</th>\n",
       "    </tr>\n",
       "    <tr>\n",
       "      <th>in_PDX</th>\n",
       "      <th>simplified_title</th>\n",
       "      <th></th>\n",
       "    </tr>\n",
       "  </thead>\n",
       "  <tbody>\n",
       "    <tr>\n",
       "      <th rowspan=\"5\" valign=\"top\">False</th>\n",
       "      <th>backend</th>\n",
       "      <td>78.000000</td>\n",
       "    </tr>\n",
       "    <tr>\n",
       "      <th>na</th>\n",
       "      <td>99.823529</td>\n",
       "    </tr>\n",
       "    <tr>\n",
       "      <th>software developer</th>\n",
       "      <td>78.500000</td>\n",
       "    </tr>\n",
       "    <tr>\n",
       "      <th>software engineer</th>\n",
       "      <td>93.663265</td>\n",
       "    </tr>\n",
       "    <tr>\n",
       "      <th>web developer</th>\n",
       "      <td>62.250000</td>\n",
       "    </tr>\n",
       "    <tr>\n",
       "      <th rowspan=\"5\" valign=\"top\">True</th>\n",
       "      <th>frontend</th>\n",
       "      <td>75.666667</td>\n",
       "    </tr>\n",
       "    <tr>\n",
       "      <th>na</th>\n",
       "      <td>91.172727</td>\n",
       "    </tr>\n",
       "    <tr>\n",
       "      <th>software developer</th>\n",
       "      <td>84.714286</td>\n",
       "    </tr>\n",
       "    <tr>\n",
       "      <th>software engineer</th>\n",
       "      <td>94.415789</td>\n",
       "    </tr>\n",
       "    <tr>\n",
       "      <th>web developer</th>\n",
       "      <td>80.000000</td>\n",
       "    </tr>\n",
       "  </tbody>\n",
       "</table>\n",
       "</div>"
      ],
      "text/plain": [
       "                           average_salary\n",
       "in_PDX simplified_title                  \n",
       "False  backend                  78.000000\n",
       "       na                       99.823529\n",
       "       software developer       78.500000\n",
       "       software engineer        93.663265\n",
       "       web developer            62.250000\n",
       "True   frontend                 75.666667\n",
       "       na                       91.172727\n",
       "       software developer       84.714286\n",
       "       software engineer        94.415789\n",
       "       web developer            80.000000"
      ]
     },
     "execution_count": 33,
     "metadata": {},
     "output_type": "execute_result"
    }
   ],
   "source": [
    "pd.pivot_table(df, index = ['in_PDX', 'simplified_title'], values = 'average_salary')"
   ]
  },
  {
   "cell_type": "code",
   "execution_count": 34,
   "metadata": {},
   "outputs": [
    {
     "data": {
      "text/plain": [
       "Index(['Job Title', 'Salary Estimate', 'Job Description', 'Rating',\n",
       "       'Company Name', 'Location', 'Headquarters', 'Size', 'Founded',\n",
       "       'Type of ownership', 'Industry', 'Sector', 'Revenue', 'Competitors',\n",
       "       'min_salary', 'max_salary', 'average_salary', 'company_fullname',\n",
       "       'in_PDX', 'age', 'javascript_yn', 'react_yn', 'node_yn', 'mongodb_yn',\n",
       "       'heroku_yn', 'webpack_yn', 'simplified_title', 'seniority',\n",
       "       'description_length', 'comp_count'],\n",
       "      dtype='object')"
      ]
     },
     "execution_count": 34,
     "metadata": {},
     "output_type": "execute_result"
    }
   ],
   "source": [
    "df.columns\n"
   ]
  },
  {
   "cell_type": "code",
   "execution_count": 35,
   "metadata": {},
   "outputs": [],
   "source": [
    "df_piv = df[['Rating', 'Size', 'Revenue', 'comp_count', 'javascript_yn', 'react_yn', 'node_yn', 'mongodb_yn',\n",
    "       'heroku_yn', 'webpack_yn', 'Industry','Type of ownership','average_salary']]"
   ]
  },
  {
   "cell_type": "code",
   "execution_count": 36,
   "metadata": {},
   "outputs": [
    {
     "name": "stdout",
     "output_type": "stream",
     "text": [
      "Rating\n",
      "        average_salary\n",
      "Rating                \n",
      " 4.7        109.400000\n",
      " 4.8        109.000000\n",
      " 4.4        102.750000\n",
      " 3.3        100.187500\n",
      " 3.6         99.684211\n",
      " 2.5         99.000000\n",
      " 4.9         98.125000\n",
      " 3.9         97.210526\n",
      " 4.1         96.500000\n",
      " 3.7         95.647059\n",
      "-1.0         95.208333\n",
      " 5.0         95.000000\n",
      " 4.6         94.700000\n",
      " 3.8         92.833333\n",
      " 2.7         92.650000\n",
      " 3.1         87.566667\n",
      " 3.4         87.117647\n",
      " 2.1         87.000000\n",
      " 4.0         86.111111\n",
      " 3.5         84.807692\n",
      " 3.2         84.333333\n",
      " 4.5         82.976190\n",
      " 4.2         76.833333\n",
      " 2.8         75.250000\n",
      " 4.3         69.166667\n",
      " 2.9         51.500000\n",
      "Size\n",
      "                         average_salary\n",
      "Size                                   \n",
      "5001 to 10000 employees       96.250000\n",
      "501 to 1000 employees         95.100000\n",
      "10000+ employees              95.028169\n",
      "201 to 500 employees          94.687500\n",
      "51 to 200 employees           93.788889\n",
      "-1                            93.607143\n",
      "1001 to 5000 employees        91.157895\n",
      "1 to 50 employees             86.352941\n",
      "Unknown                       82.533333\n",
      "Revenue\n",
      "                                  average_salary\n",
      "Revenue                                         \n",
      "$25 to $50 million (USD)              107.458333\n",
      "$10+ billion (USD)                    103.227273\n",
      "$50 to $100 million (USD)             103.041667\n",
      "-1                                     93.607143\n",
      "$2 to $5 billion (USD)                 92.350000\n",
      "$500 million to $1 billion (USD)       92.125000\n",
      "$1 to $5 million (USD)                 90.437500\n",
      "$5 to $10 million (USD)                90.000000\n",
      "Less than $1 million (USD)             89.781250\n",
      "Unknown / Non-Applicable               89.372881\n",
      "$1 to $2 billion (USD)                 89.150000\n",
      "$10 to $25 million (USD)               85.857143\n",
      "$100 to $500 million (USD)             85.410714\n",
      "$5 to $10 billion (USD)                83.500000\n",
      "comp_count\n",
      "            average_salary\n",
      "comp_count                \n",
      "2                99.659091\n",
      "1                99.406250\n",
      "3                95.341270\n",
      "0                89.618902\n",
      "javascript_yn\n",
      "               average_salary\n",
      "javascript_yn                \n",
      "False               93.171875\n",
      "True                90.383562\n",
      "react_yn\n",
      "          average_salary\n",
      "react_yn                \n",
      "True           93.187500\n",
      "False          92.154229\n",
      "node_yn\n",
      "         average_salary\n",
      "node_yn                \n",
      "True          96.654762\n",
      "False         91.603139\n",
      "mongodb_yn\n",
      "            average_salary\n",
      "mongodb_yn                \n",
      "True             98.833333\n",
      "False            92.177734\n",
      "heroku_yn\n",
      "           average_salary\n",
      "heroku_yn                \n",
      "False           92.403774\n",
      "webpack_yn\n",
      "            average_salary\n",
      "webpack_yn                \n",
      "True             99.666667\n",
      "False            92.320611\n",
      "Industry\n",
      "                                         average_salary\n",
      "Industry                                               \n",
      "Telecommunications Services                  137.000000\n",
      "Home Centers & Hardware Stores               137.000000\n",
      "Investment Banking & Asset Management        134.250000\n",
      "Vehicle Dealers                              131.500000\n",
      "Biotech & Pharmaceuticals                    131.500000\n",
      "Consumer Products Manufacturing              113.714286\n",
      "Health Care Services & Hospitals             103.000000\n",
      "Social Assistance                             99.000000\n",
      "Electrical & Electronic Manufacturing         99.000000\n",
      "Financial Transaction Processing              99.000000\n",
      "Grocery Stores & Supermarkets                 99.000000\n",
      "Internet                                      97.884615\n",
      "IT Services                                   94.325000\n",
      "Education Training Services                   93.000000\n",
      "Staffing & Outsourcing                        91.408163\n",
      "-1                                            90.484848\n",
      "Computer Hardware & Software                  89.218750\n",
      "Advertising & Marketing                       87.882353\n",
      "Enterprise Software & Network Solutions       87.777778\n",
      "Telecommunications Manufacturing              87.000000\n",
      "Consulting                                    86.500000\n",
      "Colleges & Universities                       83.500000\n",
      "Metal & Mineral Manufacturing                 81.000000\n",
      "Rail                                          81.000000\n",
      "Transportation Management                     81.000000\n",
      "Research & Development                        75.000000\n",
      "Industrial Manufacturing                      73.000000\n",
      "K-12 Education                                73.000000\n",
      "Hotels, Motels, & Resorts                     73.000000\n",
      "Home Furniture & Housewares Stores            69.250000\n",
      "Preschool & Child Care                        51.500000\n",
      "Type of ownership\n",
      "                                average_salary\n",
      "Type of ownership                             \n",
      "Company - Public                     94.300000\n",
      "-1                                   93.607143\n",
      "Company - Private                    92.141304\n",
      "Subsidiary or Business Segment       91.230769\n",
      "Nonprofit Organization               87.000000\n",
      "College / University                 83.500000\n",
      "Private Practice / Firm              73.000000\n",
      "Unknown                              73.000000\n",
      "average_salary\n"
     ]
    },
    {
     "ename": "ValueError",
     "evalue": "Grouper for 'average_salary' not 1-dimensional",
     "output_type": "error",
     "traceback": [
      "\u001b[1;31m---------------------------------------------------------------------------\u001b[0m",
      "\u001b[1;31mValueError\u001b[0m                                Traceback (most recent call last)",
      "\u001b[1;32m<ipython-input-36-3f009240f3aa>\u001b[0m in \u001b[0;36m<module>\u001b[1;34m\u001b[0m\n\u001b[0;32m      1\u001b[0m \u001b[1;32mfor\u001b[0m \u001b[0mi\u001b[0m \u001b[1;32min\u001b[0m \u001b[0mdf_piv\u001b[0m\u001b[1;33m.\u001b[0m\u001b[0mcolumns\u001b[0m\u001b[1;33m:\u001b[0m\u001b[1;33m\u001b[0m\u001b[1;33m\u001b[0m\u001b[0m\n\u001b[0;32m      2\u001b[0m     \u001b[0mprint\u001b[0m\u001b[1;33m(\u001b[0m\u001b[0mi\u001b[0m\u001b[1;33m)\u001b[0m\u001b[1;33m\u001b[0m\u001b[1;33m\u001b[0m\u001b[0m\n\u001b[1;32m----> 3\u001b[1;33m     \u001b[0mprint\u001b[0m\u001b[1;33m(\u001b[0m\u001b[0mpd\u001b[0m\u001b[1;33m.\u001b[0m\u001b[0mpivot_table\u001b[0m\u001b[1;33m(\u001b[0m\u001b[0mdf_piv\u001b[0m\u001b[1;33m,\u001b[0m \u001b[0mindex\u001b[0m\u001b[1;33m=\u001b[0m\u001b[0mi\u001b[0m\u001b[1;33m,\u001b[0m \u001b[0mvalues\u001b[0m\u001b[1;33m=\u001b[0m\u001b[1;34m'average_salary'\u001b[0m\u001b[1;33m)\u001b[0m\u001b[1;33m.\u001b[0m\u001b[0msort_values\u001b[0m\u001b[1;33m(\u001b[0m\u001b[1;34m'average_salary'\u001b[0m\u001b[1;33m,\u001b[0m \u001b[0mascending\u001b[0m\u001b[1;33m=\u001b[0m\u001b[1;32mFalse\u001b[0m\u001b[1;33m)\u001b[0m\u001b[1;33m)\u001b[0m\u001b[1;33m\u001b[0m\u001b[1;33m\u001b[0m\u001b[0m\n\u001b[0m",
      "\u001b[1;32mc:\\users\\aaron\\appdata\\local\\programs\\python\\python38-32\\lib\\site-packages\\pandas\\core\\reshape\\pivot.py\u001b[0m in \u001b[0;36mpivot_table\u001b[1;34m(data, values, index, columns, aggfunc, fill_value, margins, dropna, margins_name, observed)\u001b[0m\n\u001b[0;32m     98\u001b[0m         \u001b[0mvalues\u001b[0m \u001b[1;33m=\u001b[0m \u001b[0mlist\u001b[0m\u001b[1;33m(\u001b[0m\u001b[0mvalues\u001b[0m\u001b[1;33m)\u001b[0m\u001b[1;33m\u001b[0m\u001b[1;33m\u001b[0m\u001b[0m\n\u001b[0;32m     99\u001b[0m \u001b[1;33m\u001b[0m\u001b[0m\n\u001b[1;32m--> 100\u001b[1;33m     \u001b[0mgrouped\u001b[0m \u001b[1;33m=\u001b[0m \u001b[0mdata\u001b[0m\u001b[1;33m.\u001b[0m\u001b[0mgroupby\u001b[0m\u001b[1;33m(\u001b[0m\u001b[0mkeys\u001b[0m\u001b[1;33m,\u001b[0m \u001b[0mobserved\u001b[0m\u001b[1;33m=\u001b[0m\u001b[0mobserved\u001b[0m\u001b[1;33m)\u001b[0m\u001b[1;33m\u001b[0m\u001b[1;33m\u001b[0m\u001b[0m\n\u001b[0m\u001b[0;32m    101\u001b[0m     \u001b[0magged\u001b[0m \u001b[1;33m=\u001b[0m \u001b[0mgrouped\u001b[0m\u001b[1;33m.\u001b[0m\u001b[0magg\u001b[0m\u001b[1;33m(\u001b[0m\u001b[0maggfunc\u001b[0m\u001b[1;33m)\u001b[0m\u001b[1;33m\u001b[0m\u001b[1;33m\u001b[0m\u001b[0m\n\u001b[0;32m    102\u001b[0m     \u001b[1;32mif\u001b[0m \u001b[0mdropna\u001b[0m \u001b[1;32mand\u001b[0m \u001b[0misinstance\u001b[0m\u001b[1;33m(\u001b[0m\u001b[0magged\u001b[0m\u001b[1;33m,\u001b[0m \u001b[0mABCDataFrame\u001b[0m\u001b[1;33m)\u001b[0m \u001b[1;32mand\u001b[0m \u001b[0mlen\u001b[0m\u001b[1;33m(\u001b[0m\u001b[0magged\u001b[0m\u001b[1;33m.\u001b[0m\u001b[0mcolumns\u001b[0m\u001b[1;33m)\u001b[0m\u001b[1;33m:\u001b[0m\u001b[1;33m\u001b[0m\u001b[1;33m\u001b[0m\u001b[0m\n",
      "\u001b[1;32mc:\\users\\aaron\\appdata\\local\\programs\\python\\python38-32\\lib\\site-packages\\pandas\\core\\frame.py\u001b[0m in \u001b[0;36mgroupby\u001b[1;34m(self, by, axis, level, as_index, sort, group_keys, squeeze, observed)\u001b[0m\n\u001b[0;32m   5799\u001b[0m         \u001b[0maxis\u001b[0m \u001b[1;33m=\u001b[0m \u001b[0mself\u001b[0m\u001b[1;33m.\u001b[0m\u001b[0m_get_axis_number\u001b[0m\u001b[1;33m(\u001b[0m\u001b[0maxis\u001b[0m\u001b[1;33m)\u001b[0m\u001b[1;33m\u001b[0m\u001b[1;33m\u001b[0m\u001b[0m\n\u001b[0;32m   5800\u001b[0m \u001b[1;33m\u001b[0m\u001b[0m\n\u001b[1;32m-> 5801\u001b[1;33m         return groupby_generic.DataFrameGroupBy(\n\u001b[0m\u001b[0;32m   5802\u001b[0m             \u001b[0mobj\u001b[0m\u001b[1;33m=\u001b[0m\u001b[0mself\u001b[0m\u001b[1;33m,\u001b[0m\u001b[1;33m\u001b[0m\u001b[1;33m\u001b[0m\u001b[0m\n\u001b[0;32m   5803\u001b[0m             \u001b[0mkeys\u001b[0m\u001b[1;33m=\u001b[0m\u001b[0mby\u001b[0m\u001b[1;33m,\u001b[0m\u001b[1;33m\u001b[0m\u001b[1;33m\u001b[0m\u001b[0m\n",
      "\u001b[1;32mc:\\users\\aaron\\appdata\\local\\programs\\python\\python38-32\\lib\\site-packages\\pandas\\core\\groupby\\groupby.py\u001b[0m in \u001b[0;36m__init__\u001b[1;34m(self, obj, keys, axis, level, grouper, exclusions, selection, as_index, sort, group_keys, squeeze, observed, mutated)\u001b[0m\n\u001b[0;32m    401\u001b[0m             \u001b[1;32mfrom\u001b[0m \u001b[0mpandas\u001b[0m\u001b[1;33m.\u001b[0m\u001b[0mcore\u001b[0m\u001b[1;33m.\u001b[0m\u001b[0mgroupby\u001b[0m\u001b[1;33m.\u001b[0m\u001b[0mgrouper\u001b[0m \u001b[1;32mimport\u001b[0m \u001b[0mget_grouper\u001b[0m\u001b[1;33m\u001b[0m\u001b[1;33m\u001b[0m\u001b[0m\n\u001b[0;32m    402\u001b[0m \u001b[1;33m\u001b[0m\u001b[0m\n\u001b[1;32m--> 403\u001b[1;33m             grouper, exclusions, obj = get_grouper(\n\u001b[0m\u001b[0;32m    404\u001b[0m                 \u001b[0mobj\u001b[0m\u001b[1;33m,\u001b[0m\u001b[1;33m\u001b[0m\u001b[1;33m\u001b[0m\u001b[0m\n\u001b[0;32m    405\u001b[0m                 \u001b[0mkeys\u001b[0m\u001b[1;33m,\u001b[0m\u001b[1;33m\u001b[0m\u001b[1;33m\u001b[0m\u001b[0m\n",
      "\u001b[1;32mc:\\users\\aaron\\appdata\\local\\programs\\python\\python38-32\\lib\\site-packages\\pandas\\core\\groupby\\grouper.py\u001b[0m in \u001b[0;36mget_grouper\u001b[1;34m(obj, key, axis, level, sort, observed, mutated, validate)\u001b[0m\n\u001b[0;32m    615\u001b[0m         \u001b[1;31m# allow us to passing the actual Grouping as the gpr\u001b[0m\u001b[1;33m\u001b[0m\u001b[1;33m\u001b[0m\u001b[1;33m\u001b[0m\u001b[0m\n\u001b[0;32m    616\u001b[0m         ping = (\n\u001b[1;32m--> 617\u001b[1;33m             Grouping(\n\u001b[0m\u001b[0;32m    618\u001b[0m                 \u001b[0mgroup_axis\u001b[0m\u001b[1;33m,\u001b[0m\u001b[1;33m\u001b[0m\u001b[1;33m\u001b[0m\u001b[0m\n\u001b[0;32m    619\u001b[0m                 \u001b[0mgpr\u001b[0m\u001b[1;33m,\u001b[0m\u001b[1;33m\u001b[0m\u001b[1;33m\u001b[0m\u001b[0m\n",
      "\u001b[1;32mc:\\users\\aaron\\appdata\\local\\programs\\python\\python38-32\\lib\\site-packages\\pandas\\core\\groupby\\grouper.py\u001b[0m in \u001b[0;36m__init__\u001b[1;34m(self, index, grouper, obj, name, level, sort, observed, in_axis)\u001b[0m\n\u001b[0;32m    343\u001b[0m                 \u001b[1;32mif\u001b[0m \u001b[0mgetattr\u001b[0m\u001b[1;33m(\u001b[0m\u001b[0mself\u001b[0m\u001b[1;33m.\u001b[0m\u001b[0mgrouper\u001b[0m\u001b[1;33m,\u001b[0m \u001b[1;34m\"ndim\"\u001b[0m\u001b[1;33m,\u001b[0m \u001b[1;36m1\u001b[0m\u001b[1;33m)\u001b[0m \u001b[1;33m!=\u001b[0m \u001b[1;36m1\u001b[0m\u001b[1;33m:\u001b[0m\u001b[1;33m\u001b[0m\u001b[1;33m\u001b[0m\u001b[0m\n\u001b[0;32m    344\u001b[0m                     \u001b[0mt\u001b[0m \u001b[1;33m=\u001b[0m \u001b[0mself\u001b[0m\u001b[1;33m.\u001b[0m\u001b[0mname\u001b[0m \u001b[1;32mor\u001b[0m \u001b[0mstr\u001b[0m\u001b[1;33m(\u001b[0m\u001b[0mtype\u001b[0m\u001b[1;33m(\u001b[0m\u001b[0mself\u001b[0m\u001b[1;33m.\u001b[0m\u001b[0mgrouper\u001b[0m\u001b[1;33m)\u001b[0m\u001b[1;33m)\u001b[0m\u001b[1;33m\u001b[0m\u001b[1;33m\u001b[0m\u001b[0m\n\u001b[1;32m--> 345\u001b[1;33m                     \u001b[1;32mraise\u001b[0m \u001b[0mValueError\u001b[0m\u001b[1;33m(\u001b[0m\u001b[1;34mf\"Grouper for '{t}' not 1-dimensional\"\u001b[0m\u001b[1;33m)\u001b[0m\u001b[1;33m\u001b[0m\u001b[1;33m\u001b[0m\u001b[0m\n\u001b[0m\u001b[0;32m    346\u001b[0m                 \u001b[0mself\u001b[0m\u001b[1;33m.\u001b[0m\u001b[0mgrouper\u001b[0m \u001b[1;33m=\u001b[0m \u001b[0mself\u001b[0m\u001b[1;33m.\u001b[0m\u001b[0mindex\u001b[0m\u001b[1;33m.\u001b[0m\u001b[0mmap\u001b[0m\u001b[1;33m(\u001b[0m\u001b[0mself\u001b[0m\u001b[1;33m.\u001b[0m\u001b[0mgrouper\u001b[0m\u001b[1;33m)\u001b[0m\u001b[1;33m\u001b[0m\u001b[1;33m\u001b[0m\u001b[0m\n\u001b[0;32m    347\u001b[0m                 if not (\n",
      "\u001b[1;31mValueError\u001b[0m: Grouper for 'average_salary' not 1-dimensional"
     ]
    }
   ],
   "source": [
    "for i in df_piv.columns: \n",
    "    print(i)\n",
    "    print(pd.pivot_table(df_piv, index=i, values='average_salary').sort_values('average_salary', ascending=False))"
   ]
  },
  {
   "cell_type": "code",
   "execution_count": null,
   "metadata": {},
   "outputs": [],
   "source": [
    "pd.pivot_table(df_piv, index='Industry', columns='react_yn', values = 'average_salary', aggfunc= 'count')"
   ]
  },
  {
   "cell_type": "code",
   "execution_count": null,
   "metadata": {},
   "outputs": [],
   "source": [
    "pip install wordcloud"
   ]
  },
  {
   "cell_type": "code",
   "execution_count": null,
   "metadata": {},
   "outputs": [],
   "source": [
    "from wordcloud import WordCloud, ImageColorGenerator, STOPWORDS\n",
    "from nltk.corpus import stopwords\n",
    "from nltk.tokenize import word_tokenize"
   ]
  },
  {
   "cell_type": "code",
   "execution_count": null,
   "metadata": {},
   "outputs": [],
   "source": [
    "words = \" \".join(df['Job Description'])\n",
    "\n",
    "def punctuation_stop(text):\n",
    "    \"\"\"remove punctuation and stop words\"\"\"\n",
    "    filtered = []\n",
    "    stop_words = set(stopwords.words('english'))\n",
    "    word_tokens = word_tokenize(text)\n",
    "    for w in word_tokens:\n",
    "        if w not in stop_words and w.isalpha():\n",
    "            filtered.append(w.lower())\n",
    "    return filtered\n",
    "\n",
    "\n",
    "words_filtered = punctuation_stop(words)\n",
    "\n",
    "text = \" \".join([ele for ele in words_filtered])\n",
    "\n",
    "wc= WordCloud(background_color=\"white\", random_state=1,stopwords=STOPWORDS, max_words = 100, width =800, height = 1500)\n",
    "wc.generate(text)\n",
    "\n",
    "plt.figure(figsize=[10,10])\n",
    "plt.imshow(wc, interpolation=\"bilinear\")\n",
    "plt.axis('off')\n",
    "plt.show()"
   ]
  },
  {
   "cell_type": "code",
   "execution_count": null,
   "metadata": {},
   "outputs": [],
   "source": [
    "df.to_csv('PDXDevJobsEDA.csv')"
   ]
  },
  {
   "cell_type": "code",
   "execution_count": null,
   "metadata": {},
   "outputs": [],
   "source": []
  }
 ],
 "metadata": {
  "kernelspec": {
   "display_name": "Python 3",
   "language": "python",
   "name": "python3"
  },
  "language_info": {
   "codemirror_mode": {
    "name": "ipython",
    "version": 3
   },
   "file_extension": ".py",
   "mimetype": "text/x-python",
   "name": "python",
   "nbconvert_exporter": "python",
   "pygments_lexer": "ipython3",
   "version": "3.8.2"
  }
 },
 "nbformat": 4,
 "nbformat_minor": 4
}
